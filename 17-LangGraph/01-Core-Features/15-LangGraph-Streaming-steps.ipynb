{
  "cells": [
    {
      "cell_type": "markdown",
      "id": "635d8ebb",
      "metadata": {},
      "source": [
        "# LangGraph Streaming Mode \n",
        "\n",
        "- Author: [Yejin Park](https://github.com/ppakyeah)\n",
        "- Peer Review: \n",
        "- This is a part of [LangChain Open Tutorial](https://github.com/LangChain-OpenTutorial/LangChain-OpenTutorial)\n",
        "\n",
        "[![Open in Colab](https://colab.research.google.com/assets/colab-badge.svg)](https://colab.research.google.com/github/LangChain-OpenTutorial/LangChain-OpenTutorial/blob/main/99-TEMPLATE/00-BASE-TEMPLATE-EXAMPLE.ipynb) [![Open in GitHub](https://img.shields.io/badge/Open%20in%20GitHub-181717?style=flat-square&logo=github&logoColor=white)](https://github.com/LangChain-OpenTutorial/LangChain-OpenTutorial/blob/main/99-TEMPLATE/00-BASE-TEMPLATE-EXAMPLE.ipynb)\n",
        "\n",
        "## Overview\n",
        "\n",
        "This tutorial demonstrates LangGraph's streaming capabilities by building an AI news search system.\n",
        "\n",
        "It covers three key streaming modes: values, updates, and messages, each serving different output monitoring needs.\n",
        "\n",
        "The tutorial also explores advanced features including subgraphs and tag-based filtering for enhanced control over real-time AI outputs.\n",
        "\n",
        "### Table of Contents\n",
        "\n",
        "- [Overview](#overview)\n",
        "- [Environment Setup](#environment-setup)\n",
        "- [Introduction to Streaming Modes](#introduction-to-streaming-modes)\n",
        "- [Defining the Graph](#defining-the-graph)\n",
        "- [Step-by-step output of a node](#step-by-step-output-of-a-node)\n",
        "- [Advanced Streaming Features](#advanced-streaming-features)\n",
        "- [Working with Subgraphs](#working-with-subgraphs)\n",
        "\n",
        "### References\n",
        "\n",
        "- [LangGraph: Streaming](https://langchain-ai.github.io/langgraph/how-tos/#streaming_1)\n",
        "- [LangGraph: How to stream events](https://langchain-ai.github.io/langgraph/cloud/how-tos/stream_events/)\n",
        "- [LangChain: astream_events()](https://python.langchain.com/api_reference/langchain/agents/langchain.agents.agent.AgentExecutor.html#langchain.agents.agent.AgentExecutor.astream_events)\n",
        "----"
      ]
    },
    {
      "cell_type": "markdown",
      "id": "c6c7aba4",
      "metadata": {},
      "source": [
        "## Environment Setup\n",
        "\n",
        "Setting up your environment is the first step. See the [Environment Setup](https://wikidocs.net/257836) guide for more details.\n",
        "\n",
        "\n",
        "**[Note]**\n",
        "\n",
        "The langchain-opentutorial is a package of easy-to-use environment setup guidance, useful functions and utilities for tutorials.\n",
        "Check out the  [`langchain-opentutorial`](https://github.com/LangChain-OpenTutorial/langchain-opentutorial-pypi) for more details."
      ]
    },
    {
      "cell_type": "code",
      "execution_count": 1,
      "id": "21943adb",
      "metadata": {},
      "outputs": [],
      "source": [
        "%%capture --no-stderr\n",
        "%pip install langchain-opentutorial"
      ]
    },
    {
      "cell_type": "code",
      "execution_count": 2,
      "id": "f25ec196",
      "metadata": {},
      "outputs": [],
      "source": [
        "# Install required packages\n",
        "from langchain_opentutorial import package\n",
        "\n",
        "package.install(\n",
        "    [\n",
        "        \"langchain\",\n",
        "        \"langchain_core\",\n",
        "        \"langchain_openai\",\n",
        "        \"langgraph\"\n",
        "    ],\n",
        "    verbose=False,\n",
        "    upgrade=False,\n",
        ")"
      ]
    },
    {
      "cell_type": "markdown",
      "id": "690a9ae0",
      "metadata": {},
      "source": [
        "You can set API keys in a `.env` file or set them manually.\n",
        "\n",
        "[Note] If you’re not using the `.env` file, no worries! Just enter the keys directly in the cell below, and you’re good to go."
      ]
    },
    {
      "cell_type": "code",
      "execution_count": 3,
      "id": "327c2c7c",
      "metadata": {},
      "outputs": [],
      "source": [
        "from dotenv import load_dotenv\n",
        "from langchain_opentutorial import set_env\n",
        "\n",
        "# Attempt to load environment variables from a .env file; if unsuccessful, set them manually.\n",
        "if not load_dotenv():\n",
        "    set_env(\n",
        "        {\n",
        "            \"OPENAI_API_KEY\": \"\",\n",
        "            \"LANGCHAIN_API_KEY\": \"\",\n",
        "            \"LANGCHAIN_TRACING_V2\": \"true\",\n",
        "            \"LANGCHAIN_ENDPOINT\": \"https://api.smith.langchain.com\",\n",
        "            \"LANGCHAIN_PROJECT\": \"LangGraph Streaming Mode\",\n",
        "        }\n",
        "    )"
      ]
    },
    {
      "cell_type": "markdown",
      "id": "aa00c3f4",
      "metadata": {},
      "source": [
        "## Introduction to Streaming Modes\n",
        "LangGraph supports multiple streaming modes. The main ones are:\n",
        "\n",
        "- `values`: This streaming mode streams back values of the graph. This is the full state of the graph after each node is called.\n",
        "- `updates`: This streaming mode streams back updates to the graph. This is the update to the state of the graph after each node is called.\n",
        "- `messages`: This streaming mode streams LLM tokens from nodes as they are produced."
      ]
    },
    {
      "cell_type": "markdown",
      "id": "102bcb1c",
      "metadata": {},
      "source": [
        "## Defining the Graph\n",
        "We'll create a simple agent that can search news and process the results.\n",
        "\n",
        "First, we'll define a class to fetch Google News search results:"
      ]
    },
    {
      "cell_type": "code",
      "execution_count": 4,
      "id": "572ed32d",
      "metadata": {},
      "outputs": [],
      "source": [
        "import feedparser\n",
        "from urllib.parse import quote\n",
        "from typing import List, Dict, Optional\n",
        "\n",
        "\n",
        "class GoogleNews:\n",
        "    \"\"\"\n",
        "    A class for searching and retrieving Google News results.\n",
        "    \"\"\"\n",
        "\n",
        "    def __init__(self):\n",
        "        \"\"\"\n",
        "        Initialize the GoogleNews class.\n",
        "        Sets up the base_url attribute.\n",
        "        \"\"\"\n",
        "        self.base_url = \"https://news.google.com/rss\"\n",
        "\n",
        "    def _fetch_news(self, url: str, k: int = 3) -> List[Dict[str, str]]:\n",
        "        \"\"\"\n",
        "        Fetch news from the given URL.\n",
        "\n",
        "        Args:\n",
        "            url (str): URL to fetch news from\n",
        "            k (int): Maximum number of news items to fetch (default: 3)\n",
        "\n",
        "        Returns:\n",
        "            List[Dict[str, str]]: List of dictionaries containing news titles and links\n",
        "        \"\"\"\n",
        "        news_data = feedparser.parse(url)\n",
        "        return [\n",
        "            {\"title\": entry.title, \"link\": entry.link}\n",
        "            for entry in news_data.entries[:k]\n",
        "        ]\n",
        "\n",
        "    def _collect_news(self, news_list: List[Dict[str, str]]) -> List[Dict[str, str]]:\n",
        "        \"\"\"\n",
        "        Process and return a list of news items.\n",
        "\n",
        "        Args:\n",
        "            news_list (List[Dict[str, str]]): List of dictionaries containing news information\n",
        "\n",
        "        Returns:\n",
        "            List[Dict[str, str]]: List of dictionaries containing URLs and content\n",
        "        \"\"\"\n",
        "        if not news_list:\n",
        "            print(\"No news found for this keyword.\")\n",
        "            return []\n",
        "\n",
        "        result = []\n",
        "        for news in news_list:\n",
        "            result.append({\"url\": news[\"link\"], \"content\": news[\"title\"]})\n",
        "\n",
        "        return result\n",
        "\n",
        "    def search_by_keyword(\n",
        "        self, keyword: Optional[str] = None, k: int = 3\n",
        "    ) -> List[Dict[str, str]]:\n",
        "        \"\"\"\n",
        "        Search news by keyword.\n",
        "\n",
        "        Args:\n",
        "            keyword (Optional[str]): Keyword to search for (default: None)\n",
        "            k (int): Maximum number of news items to search for (default: 3)\n",
        "\n",
        "        Returns:\n",
        "            List[Dict[str, str]]: List of dictionaries containing URLs and content\n",
        "        \"\"\"\n",
        "        if keyword:\n",
        "            encoded_keyword = quote(keyword)\n",
        "            url = f\"{self.base_url}/search?q={encoded_keyword}&hl=en&gl=US&ceid=US:en\"\n",
        "        else:\n",
        "            url = f\"{self.base_url}?hl=en&gl=US&ceid=US:en\"\n",
        "        news_list = self._fetch_news(url, k)\n",
        "        return self._collect_news(news_list)"
      ]
    },
    {
      "cell_type": "markdown",
      "id": "12910795",
      "metadata": {},
      "source": [
        "Now that we have our news fetching functionality, let's build the graph structure using LangGraph.\n",
        "\n",
        "We'll create states, define tools, and establish the connections between different components:"
      ]
    },
    {
      "cell_type": "code",
      "execution_count": 5,
      "id": "6b5d9c72",
      "metadata": {},
      "outputs": [],
      "source": [
        "from typing import Annotated, List, Dict\n",
        "from typing_extensions import TypedDict\n",
        "from langchain.tools import tool\n",
        "from langchain_openai import ChatOpenAI\n",
        "from langgraph.graph import StateGraph, START, END\n",
        "from langgraph.graph.message import add_messages\n",
        "from langgraph.prebuilt import ToolNode, tools_condition\n",
        "\n",
        "########## 1. State Definition ##########\n",
        "class State(TypedDict):\n",
        "    messages: Annotated[list, add_messages]\n",
        "\n",
        "########## 2. Tool Definition and Binding ##########\n",
        "@tool\n",
        "def search_keyword(query: str) -> List[Dict[str, str]]:\n",
        "    \"\"\"Look up news by keyword\"\"\"\n",
        "    news_tool = GoogleNews()\n",
        "    return \"\\n\".join(\n",
        "        [f'- {news[\"content\"]}' for news in news_tool.search_by_keyword(query, k=5)]\n",
        "    )\n",
        "\n",
        "tools = [search_keyword]\n",
        "llm = ChatOpenAI(model=\"gpt-4o-mini\")\n",
        "llm_with_tools = llm.bind_tools(tools)\n",
        "\n",
        "########## 3. Add Nodes ##########\n",
        "def chatbot(state: State):\n",
        "    return {\"messages\": [llm_with_tools.invoke(state[\"messages\"])]}\n",
        "\n",
        "graph_builder = StateGraph(State)\n",
        "graph_builder.add_node(\"chatbot\", chatbot)\n",
        "tool_node = ToolNode(tools=[search_keyword])\n",
        "graph_builder.add_node(\"tools\", tool_node)\n",
        "\n",
        "# Add conditional edges\n",
        "graph_builder.add_conditional_edges(\n",
        "    \"chatbot\",\n",
        "    tools_condition,\n",
        ")\n",
        "\n",
        "########## 4. Add Edges ##########\n",
        "# tools > chatbot\n",
        "graph_builder.add_edge(\"tools\", \"chatbot\")\n",
        "# START > chatbot\n",
        "graph_builder.add_edge(START, \"chatbot\")\n",
        "# chatbot > END\n",
        "graph_builder.add_edge(\"chatbot\", END)\n",
        "\n",
        "# Compile graph\n",
        "graph = graph_builder.compile()"
      ]
    },
    {
      "cell_type": "markdown",
      "id": "410f396d",
      "metadata": {},
      "source": [
        "Visualize the graph."
      ]
    },
    {
      "cell_type": "code",
      "execution_count": 6,
      "id": "880f4911",
      "metadata": {},
      "outputs": [
        {
          "data": {
            "image/png": "[encoded data removed]",
            "text/plain": [
              "<IPython.core.display.Image object>"
            ]
          },
          "metadata": {},
          "output_type": "display_data"
        }
      ],
      "source": [
        "from IPython.display import display, Image\n",
        "\n",
        "display(Image(graph.get_graph().draw_mermaid_png()))"
      ]
    },
    {
      "cell_type": "markdown",
      "id": "8806e637",
      "metadata": {},
      "source": [
        "## Step-by-step output of a node\n",
        "Streaming mode\n",
        "- `values`: Output current status value for each step\n",
        "- `updates`: Output only status updates for each step (default)\n",
        "- `messages`: Output messages for each step\n",
        "\n",
        "Streaming here does not mean token-by-token streaming of LLM output, but rather step-by-step output.\n",
        "\n",
        "### Values Mode (`stream_mode=\"values\"`)\n",
        "\n",
        "The values mode streams the complete state after each node execution.\n",
        "\n",
        "A chunk is a tuple with two elements.\n",
        "- `key`: key of State\n",
        "- `value`: value of State\n",
        "\n",
        "\n",
        "**Synchronous Streaming**"
      ]
    },
    {
      "cell_type": "code",
      "execution_count": 7,
      "id": "b0d2c666",
      "metadata": {},
      "outputs": [
        {
          "name": "stdout",
          "output_type": "stream",
          "text": [
            "================================\u001b[1m Human Message \u001b[0m=================================\n",
            "\n",
            "Search for the latest AI news\n",
            "==================================\u001b[1m Ai Message \u001b[0m==================================\n",
            "Tool Calls:\n",
            "  search_keyword (call_9DHFR6fvFiXZxCDvJ81rHqlP)\n",
            " Call ID: call_9DHFR6fvFiXZxCDvJ81rHqlP\n",
            "  Args:\n",
            "    query: AI\n",
            "=================================\u001b[1m Tool Message \u001b[0m=================================\n",
            "Name: search_keyword\n",
            "\n",
            "- Trump announces up to $500 billion in private sector AI infrastructure investment - CBS News\n",
            "- Trump Announces $100 Billion A.I. Initiative - The New York Times\n",
            "- Oracle shares rise 9% after Trump unveils $500 bln AI plan - Reuters\n",
            "- Google Invests Another $1 Billion in AI Developer Anthropic - Bloomberg\n",
            "- Trump announces $500 billion investment for A.I. infrastructure project - KTVU FOX 2 San Francisco\n",
            "==================================\u001b[1m Ai Message \u001b[0m==================================\n",
            "\n",
            "Here are the latest news articles related to AI:\n",
            "\n",
            "1. **Trump announces up to $500 billion in private sector AI infrastructure investment** - CBS News\n",
            "2. **Trump Announces $100 Billion A.I. Initiative** - The New York Times\n",
            "3. **Oracle shares rise 9% after Trump unveils $500 billion AI plan** - Reuters\n",
            "4. **Google Invests Another $1 Billion in AI Developer Anthropic** - Bloomberg\n",
            "5. **Trump announces $500 billion investment for A.I. infrastructure project** - KTVU FOX 2 San Francisco\n",
            "\n",
            "If you need more details or specific information about any of these articles, feel free to ask!\n"
          ]
        }
      ],
      "source": [
        "inputs = {\"messages\": [(\"human\", \"Search for the latest AI news\")]}\n",
        "\n",
        "for chunk in graph.stream(inputs, stream_mode=\"values\"):\n",
        "    for state_key, state_value in chunk.items():\n",
        "        if state_key == \"messages\":\n",
        "            state_value[-1].pretty_print()"
      ]
    },
    {
      "cell_type": "markdown",
      "id": "155b9c5c",
      "metadata": {},
      "source": [
        "**Asynchronous Streaming**\n",
        "\n",
        "The `astream()` method runs the graph through asynchronous stream processing and generates chunked responses in value mode.\n",
        "\n",
        "It uses an async for statement to perform asynchronous stream processing."
      ]
    },
    {
      "cell_type": "code",
      "execution_count": 8,
      "id": "b1157195",
      "metadata": {},
      "outputs": [
        {
          "name": "stdout",
          "output_type": "stream",
          "text": [
            "================================\u001b[1m Human Message \u001b[0m=================================\n",
            "\n",
            "Search for the latest AI news\n",
            "==================================\u001b[1m Ai Message \u001b[0m==================================\n",
            "Tool Calls:\n",
            "  search_keyword (call_TCw7EC7kZ7pDeI1zUQNUlWfu)\n",
            " Call ID: call_TCw7EC7kZ7pDeI1zUQNUlWfu\n",
            "  Args:\n",
            "    query: AI\n",
            "=================================\u001b[1m Tool Message \u001b[0m=================================\n",
            "Name: search_keyword\n",
            "\n",
            "- Trump announces up to $500 billion in private sector AI infrastructure investment - CBS News\n",
            "- Trump Announces $100 Billion A.I. Initiative - The New York Times\n",
            "- Oracle shares rise 9% after Trump unveils $500 bln AI plan - Reuters\n",
            "- Google Invests Another $1 Billion in AI Developer Anthropic - Bloomberg\n",
            "- Trump announces $500 billion investment for A.I. infrastructure project - KTVU FOX 2 San Francisco\n",
            "==================================\u001b[1m Ai Message \u001b[0m==================================\n",
            "\n",
            "Here are the latest news articles related to AI:\n",
            "\n",
            "1. **Trump announces up to $500 billion in private sector AI infrastructure investment** - CBS News\n",
            "2. **Trump Announces $100 Billion A.I. Initiative** - The New York Times\n",
            "3. **Oracle shares rise 9% after Trump unveils $500 bln AI plan** - Reuters\n",
            "4. **Google Invests Another $1 Billion in AI Developer Anthropic** - Bloomberg\n",
            "5. **Trump announces $500 billion investment for A.I. infrastructure project** - KTVU FOX 2 San Francisco\n",
            "\n",
            "If you would like more details on any of these articles, just let me know!\n"
          ]
        }
      ],
      "source": [
        "inputs = {\"messages\": [(\"human\", \"Search for the latest AI news\")]}\n",
        "\n",
        "async for chunk in graph.astream(inputs, stream_mode=\"values\"):\n",
        "    for state_key, state_value in chunk.items():\n",
        "        if state_key == \"messages\":\n",
        "            state_value[-1].pretty_print()"
      ]
    },
    {
      "cell_type": "markdown",
      "id": "7b734ad8",
      "metadata": {},
      "source": [
        "If you only want to see the final result, do the following:"
      ]
    },
    {
      "cell_type": "code",
      "execution_count": 9,
      "id": "fbb7b08d",
      "metadata": {},
      "outputs": [
        {
          "name": "stdout",
          "output_type": "stream",
          "text": [
            "Here are the latest news articles related to AI:\n",
            "\n",
            "1. **Trump announces up to $500 billion in private sector AI infrastructure investment** - CBS News\n",
            "2. **Trump Announces $100 Billion A.I. Initiative** - The New York Times\n",
            "3. **Oracle shares rise 9% after Trump unveils $500 bln AI plan** - Reuters\n",
            "4. **Google Invests Another $1 Billion in AI Developer Anthropic** - Bloomberg\n",
            "5. **Trump announces $500 billion investment for A.I. infrastructure project** - KTVU FOX 2 San Francisco\n",
            "\n",
            "If you would like more details on any of these articles, let me know!\n"
          ]
        }
      ],
      "source": [
        "inputs = {\"messages\": [(\"human\", \"Search for the latest AI news\")]}\n",
        "\n",
        "final_result = None\n",
        "\n",
        "async for chunk in graph.astream(inputs, stream_mode=\"values\"):\n",
        "    final_result = chunk\n",
        "\n",
        "# Display the final result\n",
        "print(final_result[\"messages\"][-1].content)"
      ]
    },
    {
      "cell_type": "markdown",
      "id": "ad35d3be",
      "metadata": {},
      "source": [
        "### Updates Mode (`stream_mode=\"updates\"`)\n",
        "The updates mode streams only the changes to the state after each node execution.\n",
        "\n",
        "The output is a dictionary with the node names as keys and the updated values as values.\n",
        "\n",
        "A chunk is a tuple with two elements.\n",
        "- `key`: the name of the Node\n",
        "- `value`: The output value from that Node step, i.e. a dictionary with multiple key-value pairs\n",
        "\n",
        "**Synchronous Streaming**\n"
      ]
    },
    {
      "cell_type": "code",
      "execution_count": 10,
      "id": "8d3d8d63",
      "metadata": {},
      "outputs": [
        {
          "name": "stdout",
          "output_type": "stream",
          "text": [
            "\n",
            "[Node: chatbot]\n",
            "\n",
            "==================================\u001b[1m Ai Message \u001b[0m==================================\n",
            "Tool Calls:\n",
            "  search_keyword (call_lLAPc2hQKwCvb9EEW0PrUFsU)\n",
            " Call ID: call_lLAPc2hQKwCvb9EEW0PrUFsU\n",
            "  Args:\n",
            "    query: AI\n",
            "\n",
            "[Node: tools]\n",
            "\n",
            "=================================\u001b[1m Tool Message \u001b[0m=================================\n",
            "Name: search_keyword\n",
            "\n",
            "- Trump announces up to $500 billion in private sector AI infrastructure investment - CBS News\n",
            "- Trump Announces $100 Billion A.I. Initiative - The New York Times\n",
            "- Oracle shares rise 9% after Trump unveils $500 bln AI plan - Reuters\n",
            "- Google Invests Another $1 Billion in AI Developer Anthropic - Bloomberg\n",
            "- Trump announces $500 billion investment for A.I. infrastructure project - KTVU FOX 2 San Francisco\n",
            "\n",
            "[Node: chatbot]\n",
            "\n",
            "==================================\u001b[1m Ai Message \u001b[0m==================================\n",
            "\n",
            "Here are the latest news articles related to AI:\n",
            "\n",
            "1. **Trump announces up to $500 billion in private sector AI infrastructure investment** - CBS News\n",
            "2. **Trump Announces $100 Billion A.I. Initiative** - The New York Times\n",
            "3. **Oracle shares rise 9% after Trump unveils $500 bln AI plan** - Reuters\n",
            "4. **Google Invests Another $1 Billion in AI Developer Anthropic** - Bloomberg\n",
            "5. **Trump announces $500 billion investment for A.I. infrastructure project** - KTVU FOX 2 San Francisco\n",
            "\n",
            "If you need more details on any of these articles, let me know!\n"
          ]
        }
      ],
      "source": [
        "inputs = {\"messages\": [(\"human\", \"Search for the latest AI news\")]}\n",
        "\n",
        "for chunk in graph.stream(inputs, stream_mode=\"updates\"):\n",
        "    for node, value in chunk.items():\n",
        "        if node:\n",
        "            print(f\"\\n[Node: {node}]\\n\")\n",
        "        if \"messages\" in value:\n",
        "            value[\"messages\"][-1].pretty_print()"
      ]
    },
    {
      "cell_type": "markdown",
      "id": "46fd7874",
      "metadata": {},
      "source": [
        "**Asynchronous Streaming**"
      ]
    },
    {
      "cell_type": "code",
      "execution_count": 11,
      "id": "d9616746",
      "metadata": {},
      "outputs": [
        {
          "name": "stdout",
          "output_type": "stream",
          "text": [
            "\n",
            "[Node: chatbot]\n",
            "\n",
            "==================================\u001b[1m Ai Message \u001b[0m==================================\n",
            "Tool Calls:\n",
            "  search_keyword (call_Jq43xxwMWav17MnpzrIxd9xZ)\n",
            " Call ID: call_Jq43xxwMWav17MnpzrIxd9xZ\n",
            "  Args:\n",
            "    query: AI\n",
            "\n",
            "[Node: tools]\n",
            "\n",
            "=================================\u001b[1m Tool Message \u001b[0m=================================\n",
            "Name: search_keyword\n",
            "\n",
            "- Trump announces up to $500 billion in private sector AI infrastructure investment - CBS News\n",
            "- Trump Announces $100 Billion A.I. Initiative - The New York Times\n",
            "- Oracle shares rise 9% after Trump unveils $500 bln AI plan - Reuters\n",
            "- Google Invests Another $1 Billion in AI Developer Anthropic - Bloomberg\n",
            "- Trump announces $500 billion investment for A.I. infrastructure project - KTVU FOX 2 San Francisco\n",
            "\n",
            "[Node: chatbot]\n",
            "\n",
            "==================================\u001b[1m Ai Message \u001b[0m==================================\n",
            "\n",
            "Here are some of the latest news articles related to AI:\n",
            "\n",
            "1. **Trump announces up to $500 billion in private sector AI infrastructure investment** - CBS News\n",
            "2. **Trump Announces $100 Billion A.I. Initiative** - The New York Times\n",
            "3. **Oracle shares rise 9% after Trump unveils $500 bln AI plan** - Reuters\n",
            "4. **Google Invests Another $1 Billion in AI Developer Anthropic** - Bloomberg\n",
            "5. **Trump announces $500 billion investment for A.I. infrastructure project** - KTVU FOX 2 San Francisco\n",
            "\n",
            "If you would like more details about any specific article, let me know!\n"
          ]
        }
      ],
      "source": [
        "inputs = {\"messages\": [(\"human\", \"Search for the latest AI news\")]}\n",
        "\n",
        "async for chunk in graph.astream(inputs, stream_mode=\"updates\"):\n",
        "    for node, value in chunk.items():\n",
        "        if node:\n",
        "            print(f\"\\n[Node: {node}]\\n\")\n",
        "        if \"messages\" in value:\n",
        "            value[\"messages\"][-1].pretty_print()"
      ]
    },
    {
      "cell_type": "markdown",
      "id": "b1dec176",
      "metadata": {},
      "source": [
        "### Messages Mode (`stream_mode=\"messages\"`)\n",
        "\n",
        "The messages mode streams individual messages from each node.\n",
        "\n",
        "A chunk is a tuple with two elements.\n",
        "- `chunk_msg`: real-time output message\n",
        "- `metadata`: Node information\n",
        "\n",
        "**Synchronous Streaming**"
      ]
    },
    {
      "cell_type": "code",
      "execution_count": 12,
      "id": "b015c080",
      "metadata": {},
      "outputs": [
        {
          "name": "stdout",
          "output_type": "stream",
          "text": [
            "- Trump announces up to $500 billion in private sector AI infrastructure investment - CBS News\n",
            "- Trump Announces $100 Billion A.I. Initiative - The New York Times\n",
            "- Oracle shares rise 9% after Trump unveils $500 bln AI plan - Reuters\n",
            "- Google Invests Another $1 Billion in AI Developer Anthropic - Bloomberg\n",
            "- Trump announces $500 billion investment for A.I. infrastructure project - KTVU FOX 2 San Francisco\n",
            "\n",
            "\n",
            "metadata: \n",
            "{'langgraph_step': 2, 'langgraph_node': 'tools', 'langgraph_triggers': ['branch:chatbot:tools_condition:tools'], 'langgraph_path': ('__pregel_pull', 'tools'), 'langgraph_checkpoint_ns': 'tools:81eab6e0-0838-3cdf-6f0f-c63d6ac965a2'}\n",
            "\n",
            "\n",
            "Here are the latest news articles related to AI:\n",
            "\n",
            "1. **Trump announces up to $500 billion in private sector AI infrastructure investment** - CBS News\n",
            "2. **Trump Announces $100 Billion A.I. Initiative** - The New York Times\n",
            "3. **Oracle shares rise 9% after Trump unveils $500 bln AI plan** - Reuters\n",
            "4. **Google Invests Another $1 Billion in AI Developer Anthropic** - Bloomberg\n",
            "5. **Trump announces $500 billion investment for A.I. infrastructure project** - KTVU FOX 2 San Francisco\n",
            "\n",
            "Let me know if you need more information on any of these articles!"
          ]
        }
      ],
      "source": [
        "inputs = {\"messages\": [(\"human\", \"Search for the latest AI news\")]}\n",
        "\n",
        "for chunk_msg, metadata in graph.stream(inputs, stream_mode=\"messages\"):\n",
        "    if metadata[\"langgraph_node\"] == \"chatbot\":\n",
        "        if chunk_msg.content:\n",
        "            print(chunk_msg.content, end=\"\", flush=True)\n",
        "    else:\n",
        "        print(chunk_msg.content)\n",
        "        print(f\"\\n\\nmetadata: \\n{metadata}\\n\\n\")"
      ]
    },
    {
      "cell_type": "markdown",
      "id": "6e92b7ab",
      "metadata": {},
      "source": [
        "**Asynchronous Streaming**"
      ]
    },
    {
      "cell_type": "code",
      "execution_count": 13,
      "id": "a12c8401",
      "metadata": {},
      "outputs": [
        {
          "name": "stdout",
          "output_type": "stream",
          "text": [
            "- Trump announces up to $500 billion in private sector AI infrastructure investment - CBS News\n",
            "- Trump Announces $100 Billion A.I. Initiative - The New York Times\n",
            "- Oracle shares rise 9% after Trump unveils $500 bln AI plan - Reuters\n",
            "- Google Invests Another $1 Billion in AI Developer Anthropic - Bloomberg\n",
            "- Trump announces $500 billion investment for A.I. infrastructure project - KTVU FOX 2 San Francisco\n",
            "\n",
            "\n",
            "metadata: \n",
            "{'langgraph_step': 2, 'langgraph_node': 'tools', 'langgraph_triggers': ['branch:chatbot:tools_condition:tools'], 'langgraph_path': ('__pregel_pull', 'tools'), 'langgraph_checkpoint_ns': 'tools:036f524f-0b7b-712f-c1c1-8219277f41c2'}\n",
            "\n",
            "\n",
            "Here are the latest news articles related to AI:\n",
            "\n",
            "1. **Trump announces up to $500 billion in private sector AI infrastructure investment** - CBS News\n",
            "2. **Trump Announces $100 Billion A.I. Initiative** - The New York Times\n",
            "3. **Oracle shares rise 9% after Trump unveils $500 bln AI plan** - Reuters\n",
            "4. **Google Invests Another $1 Billion in AI Developer Anthropic** - Bloomberg\n",
            "5. **Trump announces $500 billion investment for A.I. infrastructure project** - KTVU FOX 2 San Francisco\n",
            "\n",
            "Let me know if you need more details on any of these articles!"
          ]
        }
      ],
      "source": [
        "inputs = {\"messages\": [(\"human\", \"Search for the latest AI news\")]}\n",
        "\n",
        "async for chunk_msg, metadata in graph.astream(inputs, stream_mode=\"messages\"):\n",
        "    if metadata[\"langgraph_node\"] == \"chatbot\":\n",
        "        if chunk_msg.content:\n",
        "            print(chunk_msg.content, end=\"\", flush=True)\n",
        "    else:\n",
        "        print(chunk_msg.content)\n",
        "        print(f\"\\n\\nmetadata: \\n{metadata}\\n\\n\")"
      ]
    },
    {
      "cell_type": "markdown",
      "id": "82094f91",
      "metadata": {},
      "source": [
        "## Advanced Streaming Features\n",
        "### Streaming output to a specific node\n",
        "\n",
        "If you want to output for a specific Node, you can set it via `stream_mode=\"messages\"`.\n",
        "\n",
        "When setting `stream_mode=\"messages\"`, you will receive messages in the form of `(chunk_msg, metadata)`.\n",
        "- `chunk_msg`: the real-time output message\n",
        "- `metadata`: the node information\n",
        "\n",
        "You can use `metadata[\"langgraph_node\"]` to output only messages from a specific node."
      ]
    },
    {
      "cell_type": "code",
      "execution_count": 14,
      "id": "b3e09d0c",
      "metadata": {},
      "outputs": [
        {
          "name": "stdout",
          "output_type": "stream",
          "text": [
            "Here are the latest news articles related to AI:\n",
            "\n",
            "1. **Trump announces up to $500 billion in private sector AI infrastructure investment** - CBS News\n",
            "2. **Trump Announces $100 Billion A.I. Initiative** - The New York Times\n",
            "3. **Oracle shares rise 9% after Trump unveils $500 bln AI plan** - Reuters\n",
            "4. **Google Invests Another $1 Billion in AI Developer Anthropic** - Bloomberg\n",
            "5. **Trump announces $500 billion investment for A.I. infrastructure project** - KTVU FOX 2 San Francisco\n",
            "\n",
            "If you would like more details on any specific article, let me know!"
          ]
        }
      ],
      "source": [
        "from langchain_core.messages import HumanMessage\n",
        "\n",
        "inputs = {\"messages\": [(\"human\", \"Search for the latest AI news\")]}\n",
        "\n",
        "for chunk_msg, metadata in graph.stream(inputs, stream_mode=\"messages\"):\n",
        "    # Only process and output valid content from final nodes that are not HumanMessage\n",
        "    if (\n",
        "        chunk_msg.content\n",
        "        and not isinstance(chunk_msg, HumanMessage)\n",
        "        and metadata[\"langgraph_node\"] == \"chatbot\"\n",
        "    ):\n",
        "        print(chunk_msg.content, end=\"\", flush=True)"
      ]
    },
    {
      "cell_type": "markdown",
      "id": "0d11f76c",
      "metadata": {},
      "source": [
        "You can see the node information by outputting metadata."
      ]
    },
    {
      "cell_type": "code",
      "execution_count": 15,
      "id": "a2456e35",
      "metadata": {},
      "outputs": [
        {
          "data": {
            "text/plain": [
              "{'langgraph_step': 3,\n",
              " 'langgraph_node': 'chatbot',\n",
              " 'langgraph_triggers': ['tools'],\n",
              " 'langgraph_path': ('__pregel_pull', 'chatbot'),\n",
              " 'langgraph_checkpoint_ns': 'chatbot:7755084b-57f3-4f12-44b2-fad575fb994f',\n",
              " 'checkpoint_ns': 'chatbot:7755084b-57f3-4f12-44b2-fad575fb994f',\n",
              " 'ls_provider': 'openai',\n",
              " 'ls_model_name': 'gpt-4o-mini',\n",
              " 'ls_model_type': 'chat',\n",
              " 'ls_temperature': 0.7}"
            ]
          },
          "execution_count": 15,
          "metadata": {},
          "output_type": "execute_result"
        }
      ],
      "source": [
        "metadata"
      ]
    },
    {
      "cell_type": "code",
      "execution_count": 16,
      "id": "0d06be11",
      "metadata": {},
      "outputs": [
        {
          "data": {
            "image/png": "[encoded data removed]",
            "text/plain": [
              "<IPython.core.display.Image object>"
            ]
          },
          "metadata": {},
          "output_type": "display_data"
        }
      ],
      "source": [
        "from IPython.display import display, Image\n",
        "\n",
        "display(Image(graph.get_graph().draw_mermaid_png()))"
      ]
    },
    {
      "cell_type": "markdown",
      "id": "4e51248b",
      "metadata": {},
      "source": [
        "\n",
        "### Filtering with Tags\n",
        "\n",
        "If your LLM's output comes from multiple places, you may only want to output messages from a specific node.\n",
        "\n",
        "In this case, you can add tags to select only the nodes you want to output.\n",
        "\n",
        "Here's how to add tags to your LLM. Tags can be added as a list."
      ]
    },
    {
      "cell_type": "code",
      "execution_count": 17,
      "id": "29bdfae4",
      "metadata": {},
      "outputs": [],
      "source": [
        "llm_with_tools = llm.bind_tools(tools).with_config(tags=[\"WANT_TO_STREAM\"])"
      ]
    },
    {
      "cell_type": "markdown",
      "id": "d47466d5",
      "metadata": {},
      "source": [
        "\n",
        "This allows you to filter events more precisely, keeping only events that occurred in that model.\n",
        "\n",
        "The example below outputs only if the `WANT_TO_STREAM` tag is present."
      ]
    },
    {
      "cell_type": "code",
      "execution_count": 18,
      "id": "1600a32c",
      "metadata": {},
      "outputs": [
        {
          "name": "stdout",
          "output_type": "stream",
          "text": [
            "Here are some of the latest news articles related to AI:\n",
            "\n",
            "1. **US tech giants announce AI plan worth up to $500bn** - BBC.com\n",
            "2. **Trump announces up to $500 billion in private sector AI infrastructure investment** - CBS News\n",
            "3. **Google Invests Another $1 Billion in AI Developer Anthropic** - Bloomberg\n",
            "4. **Trump announces $500 billion investment for A.I. infrastructure project** - KTVU FOX 2 San Francisco\n",
            "5. **Trump Announces $100 Billion A.I. Initiative** - The New York Times\n",
            "\n",
            "If you would like more details on any specific article, let me know!"
          ]
        }
      ],
      "source": [
        "async for event in graph.astream_events(inputs, version=\"v2\"):\n",
        "    kind = event[\"event\"]\n",
        "    tags = event.get(\"tags\", [])\n",
        "    \n",
        "    # Filter chat model stream events and end node tags\n",
        "    if kind == \"on_chat_model_stream\" and \"WANT_TO_STREAM\" in tags:\n",
        "        data = event[\"data\"]\n",
        "        \n",
        "        if data[\"chunk\"].content:\n",
        "            print(data[\"chunk\"].content, end=\"\", flush=True)"
      ]
    },
    {
      "cell_type": "markdown",
      "id": "f7f0b2b0",
      "metadata": {},
      "source": [
        "### Tool Call Streaming\n",
        "- `AIMessageChunk`: Output messages in real-time, tokenized units.\n",
        "- `tool_call_chunks`: Tool call chunks. If tool_call_chunks exists, output tool call chunks cumulatively. (Tool tokens are determined by looking at this property)"
      ]
    },
    {
      "cell_type": "code",
      "execution_count": 19,
      "id": "efbde2cd",
      "metadata": {},
      "outputs": [
        {
          "name": "stdout",
          "output_type": "stream",
          "text": [
            "{}\n",
            "{}\n",
            "{}\n",
            "{'query': ''}\n",
            "{'query': 'AI'}\n",
            "{'query': 'AI'}\n",
            "- Trump announces up to $500 billion in private sector AI infrastructure investment - CBS News\n",
            "- Trump Announces $100 Billion A.I. Initiative - The New York Times\n",
            "- Oracle shares rise 9% after Trump unveils $500 bln AI plan - Reuters\n",
            "- Google Invests Another $1 Billion in AI Developer Anthropic - Bloomberg\n",
            "- Trump announces $500 billion investment for A.I. infrastructure project - KTVU FOX 2 San FranciscoHere are the latest news articles related to AI:\n",
            "\n",
            "1. **Trump announces up to $500 billion in private sector AI infrastructure investment** - CBS News\n",
            "2. **Trump Announces $100 Billion A.I. Initiative** - The New York Times\n",
            "3. **Oracle shares rise 9% after Trump unveils $500 billion AI plan** - Reuters\n",
            "4. **Google Invests Another $1 Billion in AI Developer Anthropic** - Bloomberg\n",
            "5. **Trump announces $500 billion investment for A.I. infrastructure project** - KTVU FOX 2 San Francisco\n",
            "\n",
            "Let me know if you need more information on any of these articles!"
          ]
        }
      ],
      "source": [
        "from langchain_core.messages import AIMessageChunk, HumanMessage\n",
        "\n",
        "inputs = {\"messages\": [(\"human\", \"Search for the latest AI news\")]}\n",
        "\n",
        "# set the flag whether to process the first message\n",
        "first = True\n",
        "\n",
        "for msg, metadata in graph.stream(inputs, stream_mode=\"messages\"):\n",
        "    # Handle content output when it's not a user message\n",
        "    if msg.content and not isinstance(msg, HumanMessage):\n",
        "        print(msg.content, end=\"\", flush=True)\n",
        "\n",
        "    if isinstance(msg, AIMessageChunk):\n",
        "        if first:\n",
        "            gathered = msg\n",
        "            first = False\n",
        "        else:\n",
        "            gathered = gathered + msg\n",
        "\n",
        "        # Print accumulated tool call information when a tool call chunk exists\n",
        "        if msg.tool_call_chunks:\n",
        "            print(gathered.tool_calls[0][\"args\"])\n"
      ]
    },
    {
      "cell_type": "markdown",
      "id": "2634541a",
      "metadata": {},
      "source": [
        "## Working with Subgraphs\n",
        "In this part, we'll learn how to structure your graph using Subgraphs.\n",
        "\n",
        "Subgraphs is a feature that allows you to define parts of a graph as subgraphs.\n",
        "\n",
        "### Example Flow\n",
        "\n",
        "1. Subgraphs reuse the existing ability to search for the latest news.\n",
        "2. The Parent Graph adds the ability to generate social media posts based on the latest news retrieved."
      ]
    },
    {
      "cell_type": "code",
      "execution_count": 20,
      "id": "81b86e1b",
      "metadata": {},
      "outputs": [],
      "source": [
        "from typing import Annotated, List, Dict\n",
        "from typing_extensions import TypedDict\n",
        "from langchain.tools import tool\n",
        "from langchain_openai import ChatOpenAI\n",
        "from langgraph.graph import StateGraph, START, END\n",
        "from langgraph.graph.message import add_messages\n",
        "from langgraph.prebuilt import ToolNode, tools_condition\n",
        "\n",
        "\n",
        "########## 1. State Definition ##########\n",
        "class State(TypedDict):\n",
        "    # Add message list annotation\n",
        "    messages: Annotated[list, add_messages]\n",
        "\n",
        "\n",
        "########## 2. Tool Definition and Binding ##########\n",
        "@tool\n",
        "def search_keyword(query: str) -> List[Dict[str, str]]:\n",
        "    \"\"\"Look up news by keyword\"\"\"\n",
        "    news_tool = GoogleNews()\n",
        "    return \"\\n\".join([f'- {news[\"content\"]}' for news in news_tool.search_by_keyword(query, k=5)])\n",
        "\n",
        "\n",
        "# Create tool list\n",
        "tools = [search_keyword]\n",
        "\n",
        "# Initialize LLM\n",
        "llm = ChatOpenAI(model=\"gpt-4o-mini\")\n",
        "\n",
        "# Combine tools with LLM (add tags)\n",
        "llm_with_tools = llm.bind_tools(tools).with_config(tags=[\"WANT_TO_STREAM\"])\n",
        "\n",
        "########## 3. Add Nodes ##########\n",
        "def chatbot(state: State):\n",
        "    return {\"messages\": [llm_with_tools.invoke(state[\"messages\"])]}\n",
        "\n",
        "def create_sns_post(state: State):\n",
        "    sns_prompt = \"\"\"\n",
        "Please convert the previous conversation into a social media post format.\n",
        "Follow these guidelines:\n",
        "- Include hashtags\n",
        "- Use emojis\n",
        "- Use concise and engaging writing style\n",
        "- Keep it within 200 characters\n",
        "\"\"\"\n",
        "    messages = state[\"messages\"] + [(\"human\", sns_prompt)]\n",
        "    sns_llm = ChatOpenAI(model=\"gpt-4o-mini\").with_config(tags=[\"WANT_TO_STREAM2\"])\n",
        "    return {\"messages\": [sns_llm.invoke(messages)]}\n",
        "\n",
        "\n",
        "def create_subgraph():\n",
        "     # Create state graph for subgraph\n",
        "    subgraph = StateGraph(State)\n",
        "\n",
        "    subgraph.add_node(\"chatbot\", chatbot)\n",
        "\n",
        "    # Create and add tool node\n",
        "    tool_node = ToolNode(tools=[search_keyword])\n",
        "    subgraph.add_node(\"tools\", tool_node)\n",
        "\n",
        "    subgraph.add_conditional_edges(\n",
        "        \"chatbot\",\n",
        "        tools_condition,\n",
        "    )\n",
        "\n",
        "    # tools > chatbot\n",
        "    subgraph.add_edge(\"tools\", \"chatbot\")\n",
        "\n",
        "    # START > chatbot\n",
        "    subgraph.add_edge(START, \"chatbot\")\n",
        "\n",
        "    # chatbot > END \n",
        "    subgraph.add_edge(\"chatbot\", END)\n",
        "\n",
        "    return subgraph.compile()\n",
        "\n",
        "# Create main graph\n",
        "graph_builder = StateGraph(State)\n",
        "\n",
        "# Add subgraph\n",
        "subgraph = create_subgraph()\n",
        "graph_builder.add_node(\"news_subgraph\", subgraph)\n",
        "\n",
        "# Add SNS post creation node\n",
        "graph_builder.add_node(\"sns_post\", create_sns_post)\n",
        "\n",
        "# START > news_subgraph\n",
        "graph_builder.add_edge(START, \"news_subgraph\")\n",
        "\n",
        "# news_subgraph > sns_post\n",
        "graph_builder.add_edge(\"news_subgraph\", \"sns_post\")\n",
        "\n",
        "# sns_post > END\n",
        "graph_builder.add_edge(\"sns_post\", END)\n",
        "\n",
        "# Compile graph\n",
        "graph = graph_builder.compile()"
      ]
    },
    {
      "cell_type": "markdown",
      "id": "af579d51",
      "metadata": {},
      "source": [
        "We can visualize the subgraph flow using xray option."
      ]
    },
    {
      "cell_type": "code",
      "execution_count": 21,
      "id": "4ce7ea22",
      "metadata": {},
      "outputs": [
        {
          "data": {
            "image/png": "[encoded data removed]",
            "text/plain": [
              "<IPython.core.display.Image object>"
            ]
          },
          "metadata": {},
          "output_type": "display_data"
        }
      ],
      "source": [
        "from IPython.display import display, Image\n",
        "\n",
        "display(Image(graph.get_graph(xray=True).draw_mermaid_png()))"
      ]
    },
    {
      "cell_type": "markdown",
      "id": "e0f82c25",
      "metadata": {},
      "source": [
        "Now let's see how our graph processes and outputs the results when searching for AI news."
      ]
    },
    {
      "cell_type": "code",
      "execution_count": 22,
      "id": "6d9779b1",
      "metadata": {},
      "outputs": [
        {
          "name": "stdout",
          "output_type": "stream",
          "text": [
            "\n",
            "========= Update from node news_subgraph =========\n",
            "\n",
            "==================================\u001b[1m Ai Message \u001b[0m==================================\n",
            "\n",
            "Here are the latest news articles related to AI:\n",
            "\n",
            "1. **Trump announces up to $500 billion in private sector AI infrastructure investment** - CBS News\n",
            "2. **Trump Announces $100 Billion A.I. Initiative** - The New York Times\n",
            "3. **Oracle shares rise 9% after Trump unveils $500 bln AI plan** - Reuters\n",
            "4. **Google Invests Another $1 Billion in AI Developer Anthropic** - Bloomberg\n",
            "5. **Trump announces $500 billion investment for A.I. infrastructure project** - KTVU FOX 2 San Francisco\n",
            "\n",
            "If you would like more details about any of these articles, let me know!\n",
            "\n",
            "========= Update from node sns_post =========\n",
            "\n",
            "==================================\u001b[1m Ai Message \u001b[0m==================================\n",
            "\n",
            "🚀 Big news in AI! Trump just announced a massive $500 billion investment for AI infrastructure! 💰 Plus, Google drops another $1B on Anthropic! Exciting times ahead! 🤖✨ #AI #Innovation #TechNews\n"
          ]
        }
      ],
      "source": [
        "inputs = {\"messages\": [(\"human\", \"Search for the latest AI news\")]}\n",
        "\n",
        "# Process and output node updates sequentially\n",
        "for chunk in graph.stream(inputs, stream_mode=\"updates\"):\n",
        "      # node_name: current processing node name\n",
        "      # node_chunk: chunk data for that node\n",
        "    for node_name, node_chunk in chunk.items():\n",
        "        print(f\"\\n========= Update from node {node_name} =========\\n\")\n",
        "        # Output updated data for the node\n",
        "        if \"messages\" in node_chunk:\n",
        "            node_chunk[\"messages\"][-1].pretty_print()\n",
        "        else:\n",
        "            print(node_chunk)\n"
      ]
    },
    {
      "cell_type": "markdown",
      "id": "e142da3e",
      "metadata": {},
      "source": [
        "### When including Subgraphs output\n",
        "\n",
        "You can also include the output of Subgraphs via `subgraphs=True`.\n",
        "\n",
        "The output will be in the form `(namespace, chunk)`."
      ]
    },
    {
      "cell_type": "code",
      "execution_count": 23,
      "id": "b8c1416b",
      "metadata": {},
      "outputs": [
        {
          "name": "stdout",
          "output_type": "stream",
          "text": [
            "\n",
            "========= Update from node [chatbot] in [news_subgraph] =========\n",
            "\n",
            "==================================\u001b[1m Ai Message \u001b[0m==================================\n",
            "Tool Calls:\n",
            "  search_keyword (call_oydQcSskSQeUUPFeh9iCATpT)\n",
            " Call ID: call_oydQcSskSQeUUPFeh9iCATpT\n",
            "  Args:\n",
            "    query: AI\n",
            "\n",
            "========= Update from node [tools] in [news_subgraph] =========\n",
            "\n",
            "=================================\u001b[1m Tool Message \u001b[0m=================================\n",
            "Name: search_keyword\n",
            "\n",
            "- Trump announces up to $500 billion in private sector AI infrastructure investment - CBS News\n",
            "- Trump Announces $100 Billion A.I. Initiative - The New York Times\n",
            "- Oracle shares rise 9% after Trump unveils $500 bln AI plan - Reuters\n",
            "- Google Invests Another $1 Billion in AI Developer Anthropic - Bloomberg\n",
            "- Trump announces $500 billion investment for A.I. infrastructure project - KTVU FOX 2 San Francisco\n",
            "\n",
            "========= Update from node [chatbot] in [news_subgraph] =========\n",
            "\n",
            "==================================\u001b[1m Ai Message \u001b[0m==================================\n",
            "\n",
            "Here are the latest news articles related to AI:\n",
            "\n",
            "1. **Trump announces up to $500 billion in private sector AI infrastructure investment** - CBS News\n",
            "2. **Trump Announces $100 Billion A.I. Initiative** - The New York Times\n",
            "3. **Oracle shares rise 9% after Trump unveils $500 bln AI plan** - Reuters\n",
            "4. **Google Invests Another $1 Billion in AI Developer Anthropic** - Bloomberg\n",
            "5. **Trump announces $500 billion investment for A.I. infrastructure project** - KTVU FOX 2 San Francisco\n",
            "\n",
            "Let me know if you need more information on any of these articles!\n",
            "\n",
            "========= Update from node [news_subgraph] in [parent graph] =========\n",
            "\n",
            "==================================\u001b[1m Ai Message \u001b[0m==================================\n",
            "\n",
            "Here are the latest news articles related to AI:\n",
            "\n",
            "1. **Trump announces up to $500 billion in private sector AI infrastructure investment** - CBS News\n",
            "2. **Trump Announces $100 Billion A.I. Initiative** - The New York Times\n",
            "3. **Oracle shares rise 9% after Trump unveils $500 bln AI plan** - Reuters\n",
            "4. **Google Invests Another $1 Billion in AI Developer Anthropic** - Bloomberg\n",
            "5. **Trump announces $500 billion investment for A.I. infrastructure project** - KTVU FOX 2 San Francisco\n",
            "\n",
            "Let me know if you need more information on any of these articles!\n",
            "\n",
            "========= Update from node [sns_post] in [parent graph] =========\n",
            "\n",
            "==================================\u001b[1m Ai Message \u001b[0m==================================\n",
            "\n",
            "🚀 Big news in AI! Trump unveils a massive $500B investment in AI infrastructure! 💰 Plus, Google drops another $1B into Anthropic! 🤖✨ #AI #Investment #TechNews #Innovation\n"
          ]
        }
      ],
      "source": [
        "inputs = {\"messages\": [(\"human\", \"Search for the latest AI news\")]}\n",
        "\n",
        "# Formatting function to convert namespace string to a readable format\n",
        "def format_namespace(namespace):\n",
        "    return (\n",
        "        namespace[-1].split(\":\")[0]\n",
        "        if len(namespace) > 0\n",
        "        else \"parent graph\"\n",
        "    )\n",
        "\n",
        "# Using subgraphs=True to include subgraph outputs in (namespace, chunk) format\n",
        "for namespace, chunk in graph.stream(inputs, stream_mode=\"updates\", subgraphs=True):\n",
        "    # node_name: current processing node name\n",
        "    # node_chunk: chunk data for that node\n",
        "    for node_name, node_chunk in chunk.items():\n",
        "        print(f\"\\n========= Update from node [{node_name}] in [{format_namespace(namespace)}] =========\\n\")\n",
        "\n",
        "        # Output node's chunk data\n",
        "        if \"messages\" in node_chunk:\n",
        "            node_chunk[\"messages\"][-1].pretty_print()\n",
        "        else:\n",
        "            print(node_chunk)\n"
      ]
    },
    {
      "cell_type": "markdown",
      "id": "d5215dce",
      "metadata": {},
      "source": [
        "### Streaming LLM Output Token by Token Inside Subgraphs\n",
        "`kind` indicates the type of event.\n",
        "\n",
        "See the [LangChain `astream_events()` reference](https://python.langchain.com/api_reference/langchain/agents/langchain.agents.agent.AgentExecutor.html#langchain.agents.agent.AgentExecutor.astream_events) for all event types."
      ]
    },
    {
      "cell_type": "code",
      "execution_count": 24,
      "id": "a95ed1a6",
      "metadata": {},
      "outputs": [
        {
          "name": "stdout",
          "output_type": "stream",
          "text": [
            "\n",
            "========= on_chat_model_start =========\n",
            "\n",
            "\n",
            "========= tool_start =========\n",
            "\n",
            "{'query': 'AI'}\n",
            "\n",
            "========= tool_end =========\n",
            "\n",
            "- Trump announces up to $500 billion in private sector AI infrastructure investment - CBS News\n",
            "- Trump Announces $100 Billion A.I. Initiative - The New York Times\n",
            "- Oracle shares rise 9% after Trump unveils $500 bln AI plan - Reuters\n",
            "- Google Invests Another $1 Billion in AI Developer Anthropic - Bloomberg\n",
            "- Trump announces $500 billion investment for A.I. infrastructure project - KTVU FOX 2 San Francisco\n",
            "\n",
            "========= on_chat_model_start =========\n",
            "\n",
            "Here are the latest news articles related to AI:\n",
            "\n",
            "1. **Trump announces up to $500 billion in private sector AI infrastructure investment** - CBS News\n",
            "2. **Trump Announces $100 Billion A.I. Initiative** - The New York Times\n",
            "3. **Oracle shares rise 9% after Trump unveils $500 bln AI plan** - Reuters\n",
            "4. **Google Invests Another $1 Billion in AI Developer Anthropic** - Bloomberg\n",
            "5. **Trump announces $500 billion investment for A.I. infrastructure project** - KTVU FOX 2 San Francisco\n",
            "\n",
            "If you would like more information on any specific article, let me know!\n",
            "========= on_chat_model_start =========\n",
            "\n",
            "🚀 Big moves in AI! Trump unveils a massive $500B investment for AI infrastructure! 💰 Plus, Google boosts Anthropic with another $1B! Exciting times ahead! #AI #Investment #TechNews #Innovation"
          ]
        }
      ],
      "source": [
        "# Function to parse namespace information\n",
        "def parse_namespace_info(info: tuple) -> tuple[str, str]:\n",
        "    if len(info) > 1:\n",
        "        namespace, node_name = info\n",
        "        return node_name.split(\":\")[0], namespace.split(\":\")[0]\n",
        "    return info[0].split(\":\")[0], \"parent graph\"\n",
        "\n",
        "kind = None\n",
        "\n",
        "async for event in graph.astream_events(inputs, version=\"v2\", subgraphs=True):\n",
        "    kind = event[\"event\"]\n",
        "\n",
        "    # Extract event type and tag information\n",
        "    if kind == \"on_chat_model_start\":\n",
        "        print(f\"\\n========= on_chat_model_start =========\\n\")\n",
        "\n",
        "    # Filter chat model stream events and final node tags\n",
        "    elif kind == \"on_chat_model_stream\":\n",
        "        data = event[\"data\"]\n",
        "\n",
        "        # Stream output token by token\n",
        "        if data[\"chunk\"].content:\n",
        "            print(data[\"chunk\"].content, end=\"\", flush=True)\n",
        "\n",
        "    elif kind == \"on_tool_start\":\n",
        "        print(f\"\\n========= tool_start =========\\n\")\n",
        "        data = event[\"data\"]\n",
        "        if \"input\" in data:\n",
        "            tool_msg = data[\"input\"]\n",
        "            print(tool_msg)            \n",
        "\n",
        "    elif kind == \"on_tool_end\":\n",
        "        print(f\"\\n========= tool_end =========\\n\")\n",
        "        data = event[\"data\"]\n",
        "        if \"output\" in data:\n",
        "            tool_msg = data[\"output\"]\n",
        "            print(tool_msg.content)\n"
      ]
    },
    {
      "cell_type": "markdown",
      "id": "d9713986",
      "metadata": {},
      "source": [
        "### For streaming output of only specific tags\n",
        "\n",
        "`ONLY_STREAM_TAGS` allows you to set only the tags you want to stream output.\n",
        "\n",
        "Here we see that \"WANT_TO_STREAM2\" is excluded from the output and only \"WANT_TO_STREAM\" is output."
      ]
    },
    {
      "cell_type": "code",
      "execution_count": 25,
      "id": "98f0e945",
      "metadata": {},
      "outputs": [
        {
          "name": "stdout",
          "output_type": "stream",
          "text": [
            "\n",
            "========= tags: ['seq:step:1', 'WANT_TO_STREAM'] =========\n",
            "\n"
          ]
        },
        {
          "name": "stdout",
          "output_type": "stream",
          "text": [
            "\n",
            "========= tool_start =========\n",
            "\n",
            "{'query': 'AI'}\n",
            "\n",
            "========= tool_end =========\n",
            "\n",
            "- Trump announces up to $500 billion in private sector AI infrastructure investment - CBS News\n",
            "- Trump Announces $100 Billion A.I. Initiative - The New York Times\n",
            "- Oracle shares rise 9% after Trump unveils $500 bln AI plan - Reuters\n",
            "- Google Invests Another $1 Billion in AI Developer Anthropic - Bloomberg\n",
            "- Trump announces $500 billion investment for A.I. infrastructure project - KTVU FOX 2 San Francisco\n",
            "\n",
            "========= tags: ['seq:step:1', 'WANT_TO_STREAM'] =========\n",
            "\n",
            "Here are the latest news articles related to AI:\n",
            "\n",
            "1. **Trump announces up to $500 billion in private sector AI infrastructure investment** - CBS News\n",
            "2. **Trump Announces $100 Billion A.I. Initiative** - The New York Times\n",
            "3. **Oracle shares rise 9% after Trump unveils $500 bln AI plan** - Reuters\n",
            "4. **Google Invests Another $1 Billion in AI Developer Anthropic** - Bloomberg\n",
            "5. **Trump announces $500 billion investment for A.I. infrastructure project** - KTVU FOX 2 San Francisco\n",
            "\n",
            "Let me know if you would like more information on any of these articles!\n",
            "========= tags: ['seq:step:1', 'WANT_TO_STREAM2'] =========\n",
            "\n"
          ]
        }
      ],
      "source": [
        "# Function to parse namespace information\n",
        "def parse_namespace_info(info: tuple) -> tuple[str, str]:\n",
        "    if len(info) > 1:\n",
        "        namespace, node_name = info\n",
        "        return node_name.split(\":\")[0], namespace.split(\":\")[0]\n",
        "    return info[0].split(\":\")[0], \"parent graph\"\n",
        "\n",
        "# Set tags for streaming output\n",
        "ONLY_STREAM_TAGS = [\"WANT_TO_STREAM\"]\n",
        "\n",
        "kind = None\n",
        "tags = None\n",
        "\n",
        "async for event in graph.astream_events(inputs, version=\"v2\", subgraphs=True):\n",
        "    kind = event[\"event\"]\n",
        "    tags = event.get(\"tags\", [])\n",
        "\n",
        "    # Extract event type and tag information\n",
        "    if kind == \"on_chat_model_start\":\n",
        "        print(f\"\\n========= tags: {tags} =========\\n\")\n",
        "\n",
        "    # Filter chat model stream events and final node tags\n",
        "    elif kind == \"on_chat_model_stream\":\n",
        "        for tag in tags:\n",
        "            if tag in ONLY_STREAM_TAGS:\n",
        "                data = event[\"data\"]\n",
        "\n",
        "                # Output message\n",
        "                if data[\"chunk\"].content:\n",
        "                    print(data[\"chunk\"].content, end=\"\", flush=True)\n",
        "    elif kind == \"on_tool_start\":\n",
        "        print(f\"\\n========= tool_start =========\\n\")\n",
        "        data = event[\"data\"]\n",
        "        if \"input\" in data:\n",
        "            tool_msg = data[\"input\"]\n",
        "            print(tool_msg)            \n",
        "\n",
        "    elif kind == \"on_tool_end\":\n",
        "        print(f\"\\n========= tool_end =========\\n\")\n",
        "        data = event[\"data\"]\n",
        "        if \"output\" in data:\n",
        "            tool_msg = data[\"output\"]\n",
        "            print(tool_msg.content)"
      ]
    }
  ],
  "metadata": {
    "kernelspec": {
      "display_name": "langchain-opentutorial-0qAVdsEJ-py3.11",
      "language": "python",
      "name": "python3"
    },
    "language_info": {
      "codemirror_mode": {
        "name": "ipython",
        "version": 3
      },
      "file_extension": ".py",
      "mimetype": "text/x-python",
      "name": "python",
      "nbconvert_exporter": "python",
      "pygments_lexer": "ipython3",
      "version": "3.11.11"
    }
  },
  "nbformat": 4,
  "nbformat_minor": 5
}

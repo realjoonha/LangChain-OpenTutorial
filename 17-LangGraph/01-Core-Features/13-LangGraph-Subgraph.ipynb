{
  "cells": [
    {
      "cell_type": "markdown",
      "id": "635d8ebb",
      "metadata": {},
      "source": [
        "# LangGrpah Subgraph\n",
        "\n",
        "- Author: [Sunyoung Park (architectyou)](https://github.com/architectyou)\n",
        "- Design: \n",
        "- Peer Review: \n",
        "- This is a part of [LangChain Open Tutorial](https://github.com/LangChain-OpenTutorial/LangChain-OpenTutorial)\n",
        "\n",
        "[![Open in Colab](https://colab.research.google.com/assets/colab-badge.svg)](https://colab.research.google.com/github/LangChain-OpenTutorial/LangChain-OpenTutorial/blob/main/99-TEMPLATE/00-BASE-TEMPLATE-EXAMPLE.ipynb) [![Open in GitHub](https://img.shields.io/badge/Open%20in%20GitHub-181717?style=flat-square&logo=github&logoColor=white)](https://github.com/LangChain-OpenTutorial/LangChain-OpenTutorial/blob/main/99-TEMPLATE/00-BASE-TEMPLATE-EXAMPLE.ipynb)\n",
        "\n",
        "## Overview\n",
        "\n",
        "Using **SubGraphs** allows you to build complex systems containing multiple components, where these components themselves can become graphs. A common use case for **SubGraphs** is building multi-agent systems.\n",
        "\n",
        "The main consideration when adding **SubGraphs** is how the parent graph and SubGraph communicate, specifically how they pass state to each other during graph execution.\n",
        "\n",
        "- There are two scenarios:\n",
        "1. When the parent graph and `subgraph` **share schema keys**. In this case, you can add nodes with the compiled `subgraph`.\n",
        "2. When the parent graph and `subgraph` have **different schemas**. In this case, you need to add a **node function** that calls the `subgraph`.\n",
        "\n",
        "This is useful when the parent graph and `subgraph` have different state schemas and the state needs to be transformed before and after calling the `subgraph`.\n",
        "\n",
        "I'll show you how to add subgraphs for each scenario below.\n",
        "\n",
        "![langgraph-subgraph](./assets/13-langgraph-subgraph.png)\n",
        "\n",
        "### Table of Contents\n",
        "\n",
        "- [Overview](#overview)\n",
        "- [Environment Setup](#environment-setup)\n",
        "- [Case 1: When Sharing Schema Keys](#case-1-when-sharing-schema-keys)\n",
        "- [Case 2: When Not Sharing Schema Keys](#case-2-when-not-sharing-schema-keys)\n",
        "\n",
        "### References\n",
        "\n",
        "- [How to add and use subgraphs](https://langchain-ai.github.io/langgraph/how-tos/subgraph/)\n",
        "- [How to visualize your graph](https://langchain-ai.github.io/langgraph/how-tos/visualization/#set-up-graph)\n",
        "----"
      ]
    },
    {
      "cell_type": "markdown",
      "id": "c6c7aba4",
      "metadata": {},
      "source": [
        "## Environment Setup\n",
        "\n",
        "Setting up your environment is the first step. See the [Environment Setup](https://wikidocs.net/257836) guide for more details.\n",
        "\n",
        "\n",
        "**[Note]**\n",
        "\n",
        "The langchain-opentutorial is a package of easy-to-use environment setup guidance, useful functions and utilities for tutorials.\n",
        "Check out the  [`langchain-opentutorial`](https://github.com/LangChain-OpenTutorial/langchain-opentutorial-pypi) for more details."
      ]
    },
    {
      "cell_type": "code",
      "execution_count": 1,
      "id": "21943adb",
      "metadata": {},
      "outputs": [],
      "source": [
        "%%capture --no-stderr\n",
        "%pip install langchain-opentutorial"
      ]
    },
    {
      "cell_type": "code",
      "execution_count": 2,
      "id": "f25ec196",
      "metadata": {},
      "outputs": [],
      "source": [
        "# Install required packages\n",
        "from langchain_opentutorial import package\n",
        "\n",
        "package.install(\n",
        "    [\n",
        "        \"langgraph\",\n",
        "        \"langchain-opentutorial\"\n",
        "    ],\n",
        "    verbose=False,\n",
        "    upgrade=False,\n",
        ")"
      ]
    },
    {
      "cell_type": "markdown",
      "id": "690a9ae0",
      "metadata": {},
      "source": [
        "You can set API keys in a `.env` file or set them manually.\n",
        "\n",
        "[Note] If you’re not using the `.env` file, no worries! Just enter the keys directly in the cell below, and you’re good to go."
      ]
    },
    {
      "cell_type": "code",
      "execution_count": 3,
      "id": "327c2c7c",
      "metadata": {},
      "outputs": [],
      "source": [
        "from dotenv import load_dotenv\n",
        "from langchain_opentutorial import set_env\n",
        "\n",
        "# Attempt to load environment variables from a .env file; if unsuccessful, set them manually.\n",
        "if not load_dotenv():\n",
        "    set_env(\n",
        "        {\n",
        "            \"OPENAI_API_KEY\": \"\",\n",
        "            \"LANGCHAIN_API_KEY\": \"\",\n",
        "            \"LANGCHAIN_TRACING_V2\": \"true\",\n",
        "            \"LANGCHAIN_ENDPOINT\": \"https://api.smith.langchain.com\",\n",
        "            \"LANGCHAIN_PROJECT\": \"LangGraph Subgraph\",\n",
        "        }\n",
        "    )"
      ]
    },
    {
      "cell_type": "markdown",
      "id": "aa00c3f4",
      "metadata": {},
      "source": [
        "## Case 1: When Sharing Schema Keys\n",
        "\n",
        "### Adding Nodes with Compiled SubGraphs\n",
        "\n",
        "It's a common case where the parent graph and subgraph communicate through shared state keys.\n",
        "For example, in multi-agent systems, agents typically communicate through a shared '`messages`' key.\n",
        "When a **subgraph shares state keys with the parent graph**, you can add it to the graph following these steps:\n",
        "\n",
        "1. Define and compile the `subgraph` workflow (`subgraph_builder` in the example below)\n",
        "2. Pass the compiled `subgraph` to the `.add_node` method when defining the parent graph workflow"
      ]
    },
    {
      "cell_type": "code",
      "execution_count": 4,
      "id": "d34eac13",
      "metadata": {},
      "outputs": [],
      "source": [
        "from langgraph.graph import START, END, StateGraph\n",
        "from typing import TypedDict\n",
        "\n",
        "\n",
        "# TypedDict class for defining subgraph state, including name key shared with parent graph and family_name key exclusive to subgraph\n",
        "class ChildState(TypedDict):\n",
        "    name: str  # State key shared with parent graph\n",
        "    family_name: str\n",
        "\n",
        "\n",
        "# First node of subgraph, sets initial value for family_name key\n",
        "def subgraph_node_1(state: ChildState):\n",
        "    return {\"family_name\": \"Lee\"}\n",
        "\n",
        "\n",
        "# Second node of subgraph, combines subgraph-exclusive family_name key and shared name key to create new state\n",
        "def subgraph_node_2(state: ChildState):\n",
        "    # Perform update using family_name key only available within subgraph and shared state key name\n",
        "    return {\"name\": f'{state[\"name\"]} {state[\"family_name\"]}'}\n",
        "\n",
        "\n",
        "# Define subgraph structure and set node connection relationships\n",
        "subgraph_builder = StateGraph(ChildState)\n",
        "subgraph_builder.add_node(subgraph_node_1)\n",
        "subgraph_builder.add_node(subgraph_node_2)\n",
        "subgraph_builder.add_edge(START, \"subgraph_node_1\")\n",
        "subgraph_builder.add_edge(\"subgraph_node_1\", \"subgraph_node_2\")\n",
        "subgraph = subgraph_builder.compile()"
      ]
    },
    {
      "cell_type": "markdown",
      "id": "d17ce698",
      "metadata": {},
      "source": [
        "Visualize the Graph."
      ]
    },
    {
      "cell_type": "code",
      "execution_count": 5,
      "id": "715a67e6",
      "metadata": {},
      "outputs": [
        {
          "data": {
            "image/png": "[encoded data removed]",
            "text/plain": [
              "<IPython.core.display.Image object>"
            ]
          },
          "metadata": {},
          "output_type": "display_data"
        }
      ],
      "source": [
        "from langchain_opentutorial.graphs import visualize_graph\n",
        "\n",
        "visualize_graph(subgraph, xray=True)"
      ]
    },
    {
      "cell_type": "code",
      "execution_count": 6,
      "id": "377676b8",
      "metadata": {},
      "outputs": [],
      "source": [
        "# TypedDict class for defining parent graph state, containing only the name key\n",
        "class ParentState(TypedDict):\n",
        "    name: str\n",
        "    company: str\n",
        "\n",
        "\n",
        "# First node of parent graph, modifies the name key value to create new state\n",
        "def node_1(state: ParentState):\n",
        "    return {\"name\": f'My name is {state[\"name\"]}'}\n",
        "\n",
        "\n",
        "# Define parent graph structure and set node connection relationships including subgraph\n",
        "builder = StateGraph(ParentState)\n",
        "builder.add_node(\"node_1\", node_1)\n",
        "# Add compiled subgraph as a node to parent graph\n",
        "builder.add_node(\"node_2\", subgraph)\n",
        "builder.add_edge(START, \"node_1\")\n",
        "builder.add_edge(\"node_1\", \"node_2\")\n",
        "builder.add_edge(\"node_2\", END)\n",
        "graph = builder.compile()"
      ]
    },
    {
      "cell_type": "code",
      "execution_count": 7,
      "id": "d681db5f",
      "metadata": {},
      "outputs": [
        {
          "data": {
            "image/png": "[encoded data removed]",
            "text/plain": [
              "<IPython.core.display.Image object>"
            ]
          },
          "metadata": {},
          "output_type": "display_data"
        }
      ],
      "source": [
        "visualize_graph(graph, xray=True)"
      ]
    },
    {
      "cell_type": "code",
      "execution_count": 8,
      "id": "0f378726",
      "metadata": {},
      "outputs": [
        {
          "name": "stdout",
          "output_type": "stream",
          "text": [
            "{'node_1': {'name': 'My name is Teddy'}}\n",
            "{'node_2': {'name': 'My name is Teddy Lee'}}\n"
          ]
        }
      ],
      "source": [
        "# Stream graph data chunk by chunk and print each chunk\n",
        "for chunk in graph.stream({\"name\": \"Teddy\"}):\n",
        "    print(chunk)"
      ]
    },
    {
      "cell_type": "markdown",
      "id": "d6823547",
      "metadata": {},
      "source": [
        "The final output of the parent graph includes the results of the subgraph calls.\n",
        "\n",
        "To check the output of the subgraph, you can specify `subgraphs=True` when streaming."
      ]
    },
    {
      "cell_type": "code",
      "execution_count": 9,
      "id": "0817a4e0",
      "metadata": {},
      "outputs": [
        {
          "name": "stdout",
          "output_type": "stream",
          "text": [
            "((), {'node_1': {'name': 'My name is Teddy'}})\n",
            "(('node_2:83ab5741-81c5-3032-fac4-c66046ee1e2c',), {'subgraph_node_1': {'family_name': 'Lee'}})\n",
            "(('node_2:83ab5741-81c5-3032-fac4-c66046ee1e2c',), {'subgraph_node_2': {'name': 'My name is Teddy Lee'}})\n",
            "((), {'node_2': {'name': 'My name is Teddy Lee'}})\n"
          ]
        }
      ],
      "source": [
        "# Stream and output subgraph data chunks sequentially\n",
        "# Process streaming with subgraphs by setting subgraphs=True\n",
        "for chunk in graph.stream({\"name\": \"Teddy\"}, subgraphs=True):\n",
        "    print(chunk)"
      ]
    },
    {
      "cell_type": "markdown",
      "id": "da26218e",
      "metadata": {},
      "source": [
        "## Case 2: When Not Sharing Schema Keys\n",
        "\n",
        "### Adding Node Functions That Call Subgraphs\n",
        "\n",
        "In more complex systems, you might need to **define subgraphs with completely different schemas from the parent graph** (cases where there are no shared state keys).\n",
        "\n",
        "In such cases, you need to define a node function that calls the `subgraph`.\n",
        "\n",
        "This function must transform the parent state into child state before calling the `subgraph`, and transform the results back into parent state before returning state updates from the node.\n",
        "\n",
        "Below, we'll show how to modify the original example to call the `subgraph` within a node.\n",
        "\n",
        "\n",
        "[**Note**]\n",
        "- You **cannot** call more than one subgraph within the same node."
      ]
    },
    {
      "cell_type": "code",
      "execution_count": 10,
      "id": "5fb3e924",
      "metadata": {},
      "outputs": [],
      "source": [
        "# Define subgraph state type (no shared keys with parent graph)\n",
        "class ChildState(TypedDict):\n",
        "    # Keys not shared with parent graph\n",
        "    name: str\n",
        "\n",
        "\n",
        "# First node of subgraph: sets initial value for name key\n",
        "def subgraph_node_1(state: ChildState):\n",
        "    return {\"name\": \"Teddy \" + state[\"name\"]}\n",
        "\n",
        "\n",
        "# Second node of subgraph: returns name value as is\n",
        "def subgraph_node_2(state: ChildState):\n",
        "    return {\"name\": f'My name is {state[\"name\"]}'}\n",
        "\n",
        "\n",
        "# Initialize subgraph builder and configure node connections\n",
        "subgraph_builder = StateGraph(ChildState)\n",
        "subgraph_builder.add_node(subgraph_node_1)\n",
        "subgraph_builder.add_node(subgraph_node_2)\n",
        "subgraph_builder.add_edge(START, \"subgraph_node_1\")\n",
        "subgraph_builder.add_edge(\"subgraph_node_1\", \"subgraph_node_2\")\n",
        "subgraph = subgraph_builder.compile()\n",
        "\n",
        "\n",
        "# Define parent graph state type\n",
        "class ParentState(TypedDict):\n",
        "    family_name: str\n",
        "    full_name: str\n",
        "\n",
        "\n",
        "# First node of parent graph: returns family_name value as is\n",
        "def node_1(state: ParentState):\n",
        "    return {\"family_name\": state[\"family_name\"]}\n",
        "\n",
        "\n",
        "# Second node of parent graph: handles state transformation with subgraph and processes results\n",
        "def node_2(state: ParentState):\n",
        "    # Transform parent state to subgraph state\n",
        "    response = subgraph.invoke({\"name\": state[\"family_name\"]})\n",
        "    # Transform subgraph response back to parent state\n",
        "    return {\"full_name\": response[\"name\"]}\n",
        "\n",
        "\n",
        "# Initialize parent graph builder and configure node connections\n",
        "builder = StateGraph(ParentState)\n",
        "builder.add_node(\"node_1\", node_1)\n",
        "\n",
        "# Use node_2 function that calls subgraph instead of compiled subgraph\n",
        "builder.add_node(\"node_2\", node_2)\n",
        "builder.add_edge(START, \"node_1\")\n",
        "builder.add_edge(\"node_1\", \"node_2\")\n",
        "builder.add_edge(\"node_2\", END)\n",
        "graph = builder.compile()"
      ]
    },
    {
      "cell_type": "markdown",
      "id": "9bfdf139",
      "metadata": {},
      "source": [
        "Visualize the Graph"
      ]
    },
    {
      "cell_type": "code",
      "execution_count": 11,
      "id": "894cceff",
      "metadata": {},
      "outputs": [
        {
          "data": {
            "image/png": "[encoded data removed]",
            "text/plain": [
              "<IPython.core.display.Image object>"
            ]
          },
          "metadata": {},
          "output_type": "display_data"
        }
      ],
      "source": [
        "visualize_graph(graph, xray=True)"
      ]
    },
    {
      "cell_type": "code",
      "execution_count": 12,
      "id": "69cb77da",
      "metadata": {},
      "outputs": [
        {
          "name": "stdout",
          "output_type": "stream",
          "text": [
            "((), {'node_1': {'family_name': 'Lee'}})\n",
            "(('node_2:64295ff5-a73e-84c0-8221-a7621d6ee521',), {'subgraph_node_1': {'name': 'Teddy Lee'}})\n",
            "(('node_2:64295ff5-a73e-84c0-8221-a7621d6ee521',), {'subgraph_node_2': {'name': 'My name is Teddy Lee'}})\n",
            "((), {'node_2': {'full_name': 'My name is Teddy Lee'}})\n"
          ]
        }
      ],
      "source": [
        "# Stream and output subgraph data chunks sequentially\n",
        "# Process streaming with subgraphs by setting subgraphs=True\n",
        "for chunk in graph.stream({\"family_name\": \"Lee\"}, subgraphs=True):\n",
        "    print(chunk)"
      ]
    }
  ],
  "metadata": {
    "kernelspec": {
      "display_name": "langchain-kr-lwwSZlnu-py3.11",
      "language": "python",
      "name": "python3"
    },
    "language_info": {
      "codemirror_mode": {
        "name": "ipython",
        "version": 3
      },
      "file_extension": ".py",
      "mimetype": "text/x-python",
      "name": "python",
      "nbconvert_exporter": "python",
      "pygments_lexer": "ipython3",
      "version": "3.12.8"
    }
  },
  "nbformat": 4,
  "nbformat_minor": 5
}

{
  "cells": [
    {
      "cell_type": "markdown",
      "id": "635d8ebb",
      "metadata": {},
      "source": [
        "# Naive RAG\n",
        "\n",
        "- Author: [Youngjun cho](https://github.com/choincnp)\n",
        "- Design: [LeeYuChul](https://github.com/LeeYuChul)\n",
        "- Peer Review: \n",
        "- This is a part of [LangChain Open Tutorial](https://github.com/LangChain-OpenTutorial/LangChain-OpenTutorial)\n",
        "\n",
        "[![Open in Colab](https://colab.research.google.com/assets/colab-badge.svg)](https://colab.research.google.com/github/LangChain-OpenTutorial/LangChain-OpenTutorial/blob/main/99-TEMPLATE/00-BASE-TEMPLATE-EXAMPLE.ipynb) [![Open in GitHub](https://img.shields.io/badge/Open%20in%20GitHub-181717?style=flat-square&logo=github&logoColor=white)](https://github.com/LangChain-OpenTutorial/LangChain-OpenTutorial/blob/main/99-TEMPLATE/00-BASE-TEMPLATE-EXAMPLE.ipynb)\n",
        "\n",
        "## Overview\n",
        "\n",
        "In this chapter, Section 02(Naive-RAG) through Section 05(Add-Query-Rewrite) is not an independent section, but cover one topic.\n",
        "\n",
        "We'll make a basic RAG on this section, and make more complicated RAG as sections goes by.\n",
        "\n",
        "### Table of Contents\n",
        "\n",
        "- [Overview](#overview)\n",
        "- [Environment Setup](#environment-setup)\n",
        "- [Procedure](#procedure)\n",
        "- [Creating a Basic PDF-Based Retrieval Chain](#creating-a-basic-pdf-based-retrieval-chain)\n",
        "- [Defining State](#defining-state)\n",
        "- [Defining Nodes](#defining-nodes)\n",
        "- [Creating the Graph](#creating-the-graph)\n",
        "- [Excuting the Graph](#executing-the-graph)\n",
        "\n",
        "### References\n",
        "\n",
        "- [LangGraph Streaming](https://python.langchain.com/docs/concepts/streaming/)\n",
        "----"
      ]
    },
    {
      "cell_type": "markdown",
      "id": "c6c7aba4",
      "metadata": {},
      "source": [
        "## Environment Setup\n",
        "\n",
        "Setting up your environment is the first step. See the [Environment Setup](https://wikidocs.net/257836) guide for more details.\n",
        "\n",
        "\n",
        "**[Note]**\n",
        "\n",
        "The langchain-opentutorial is a package of easy-to-use environment setup guidance, useful functions and utilities for tutorials.\n",
        "Check out the  [`langchain-opentutorial`](https://github.com/LangChain-OpenTutorial/langchain-opentutorial-pypi) for more details."
      ]
    },
    {
      "cell_type": "code",
      "execution_count": 1,
      "id": "21943adb",
      "metadata": {},
      "outputs": [],
      "source": [
        "%%capture --no-stderr\n",
        "%pip install langchain-opentutorial"
      ]
    },
    {
      "cell_type": "code",
      "execution_count": 2,
      "id": "f25ec196",
      "metadata": {},
      "outputs": [],
      "source": [
        "# Install required packages\n",
        "from langchain_opentutorial import package\n",
        "\n",
        "package.install(\n",
        "    [\n",
        "        \"langsmith\",\n",
        "        \"langchain\",\n",
        "        \"langchain_core\",\n",
        "        \"langchain_community\",\n",
        "        \"langgraph\",\n",
        "        \"typing\",\n",
        "        \"langchain-opentutorial\"\n",
        "    ],\n",
        "    verbose=False,\n",
        "    upgrade=False,\n",
        ")"
      ]
    },
    {
      "cell_type": "markdown",
      "id": "690a9ae0",
      "metadata": {},
      "source": [
        "You can set API keys in a `.env` file or set them manually.\n",
        "\n",
        "[Note] If you’re not using the `.env` file, no worries! Just enter the keys directly in the cell below, and you’re good to go."
      ]
    },
    {
      "cell_type": "code",
      "execution_count": 3,
      "id": "327c2c7c",
      "metadata": {},
      "outputs": [],
      "source": [
        "from dotenv import load_dotenv\n",
        "from langchain_opentutorial import set_env\n",
        "\n",
        "# Attempt to load environment variables from a .env file; if unsuccessful, set them manually.\n",
        "if not load_dotenv():\n",
        "    set_env(\n",
        "        {\n",
        "            \"OPENAI_API_KEY\": \"\",\n",
        "            \"LANGCHAIN_API_KEY\": \"\",\n",
        "            \"LANGCHAIN_TRACING_V2\": \"true\",\n",
        "            \"LANGCHAIN_ENDPOINT\": \"https://api.smith.langchain.com\",\n",
        "            \"LANGCHAIN_PROJECT\": \"02-LangGraph-Naive-RAG\",  # set the project name same as the title\n",
        "        }\n",
        "    )"
      ]
    },
    {
      "cell_type": "markdown",
      "id": "aa00c3f4",
      "metadata": {},
      "source": [
        "## Procedure\n",
        "\n",
        "Perform `Naive RAG`, the basic RAG system which has 2 progress, **Retrieve** and **Generate** .\n",
        "\n",
        "You can see the structure in the image below.\n",
        "\n",
        "![](./assets/02-langgraph-naive-rag.png)"
      ]
    },
    {
      "cell_type": "markdown",
      "id": "56b83578",
      "metadata": {},
      "source": [
        "## Creating a Basic PDF-Based Retrieval Chain\n",
        "\n",
        "This section creates a Retrieval Chain based on a **PDF document** . It is the simplest structure of a Retrieval Chain.\n",
        "\n",
        "In `LangGraph` , Retrievers and Chains are created separately. This allows detailed processing for each node."
      ]
    },
    {
      "cell_type": "code",
      "execution_count": null,
      "metadata": {},
      "outputs": [],
      "source": []
    },
    {
      "cell_type": "code",
      "execution_count": 4,
      "id": "d8a4062a",
      "metadata": {},
      "outputs": [],
      "source": [
        "from rag.pdf import PDFRetrievalChain\n",
        "\n",
        "# Load the PDF document\n",
        "pdf = PDFRetrievalChain([\"data/A European Approach to Artificial Intelligence - A Policy Perspective.pdf\"]).create_chain()\n",
        "\n",
        "# Create retriever and chain\n",
        "pdf_retriever = pdf.retriever\n",
        "pdf_chain = pdf.chain"
      ]
    },
    {
      "cell_type": "markdown",
      "id": "34f7150f",
      "metadata": {},
      "source": [
        "First, use the `pdf_retriever` to fetch search results.\n",
        "\n",
        "You can control the quantity to retrieve, by changing `self_k` argument in `pdf.py` file."
      ]
    },
    {
      "cell_type": "code",
      "execution_count": 5,
      "id": "6c98f04a",
      "metadata": {},
      "outputs": [
        {
          "data": {
            "text/plain": [
              "[Document(id='76d10387-a006-4d7c-8bd1-c316831d6094', metadata={'source': 'data/A European Approach to Artificial Intelligence - A Policy Perspective.pdf', 'file_path': 'data/A European Approach to Artificial Intelligence - A Policy Perspective.pdf', 'page': 14, 'total_pages': 24, 'CreationDate': \"D:20200922223534+02'00'\", 'Creator': 'Adobe InDesign 15.1 (Macintosh)', 'ModDate': \"D:20200922223544+02'00'\", 'Producer': 'Adobe PDF Library 15.0', 'Trapped': 'False'}, page_content='activities. So far, however, AI applications in healthcare have been potential. Specific healthcare training should be provided to data\\nconfined to administrative tasks (i.e., Natural Language Processing scientists working in hospitals so that they can better understand'),\n",
              " Document(id='f4f78deb-c8d9-4c84-a3e4-a91b0477413d', metadata={'source': 'data/A European Approach to Artificial Intelligence - A Policy Perspective.pdf', 'file_path': 'data/A European Approach to Artificial Intelligence - A Policy Perspective.pdf', 'page': 14, 'total_pages': 24, 'CreationDate': \"D:20200922223534+02'00'\", 'Creator': 'Adobe InDesign 15.1 (Macintosh)', 'ModDate': \"D:20200922223544+02'00'\", 'Producer': 'Adobe PDF Library 15.0', 'Trapped': 'False'}, page_content='are great, as more use of AI in research and development could\\nHealthcare is arguably the sector where AI could make the lead to a more personalised healthcare based on patients’ data.'),\n",
              " Document(id='e393ec31-5738-4454-aab0-bf1f33ec1d18', metadata={'source': 'data/A European Approach to Artificial Intelligence - A Policy Perspective.pdf', 'file_path': 'data/A European Approach to Artificial Intelligence - A Policy Perspective.pdf', 'page': 10, 'total_pages': 24, 'CreationDate': \"D:20200922223534+02'00'\", 'Creator': 'Adobe InDesign 15.1 (Macintosh)', 'ModDate': \"D:20200922223544+02'00'\", 'Producer': 'Adobe PDF Library 15.0', 'Trapped': 'False'}, page_content='intermediate / professional users (i.e., healthcare professionals). the safety of employees. The key application of AI is certainly in\\nThis is a matter of privacy and personal data protection, of building predictive maintenance. Yet, the more radical transformation of'),\n",
              " Document(id='693acf63-9fbf-4e71-9128-71b230dcd17f', metadata={'source': 'data/A European Approach to Artificial Intelligence - A Policy Perspective.pdf', 'file_path': 'data/A European Approach to Artificial Intelligence - A Policy Perspective.pdf', 'page': 15, 'total_pages': 24, 'CreationDate': \"D:20200922223534+02'00'\", 'Creator': 'Adobe InDesign 15.1 (Macintosh)', 'ModDate': \"D:20200922223544+02'00'\", 'Producer': 'Adobe PDF Library 15.0', 'Trapped': 'False'}, page_content='Remote sible, as AI solutions can increasingly divert patients ning healthcare professionals, starting from the simple\\nhealthcare to appropriate solutions for their specific symptoms tasks and diagnostic appointments.\\nand underlying conditions.\\n16'),\n",
              " Document(id='764ba481-f984-47e9-b86b-98250eda7ad1', metadata={'source': 'data/A European Approach to Artificial Intelligence - A Policy Perspective.pdf', 'file_path': 'data/A European Approach to Artificial Intelligence - A Policy Perspective.pdf', 'page': 14, 'total_pages': 24, 'CreationDate': \"D:20200922223534+02'00'\", 'Creator': 'Adobe InDesign 15.1 (Macintosh)', 'ModDate': \"D:20200922223544+02'00'\", 'Producer': 'Adobe PDF Library 15.0', 'Trapped': 'False'}, page_content='same. The Covid-19 crisis has shown how strained our National\\nHealthcare Systems are, and AI solutions could help meet the cur- AI in the healthcare faces organisational and skill challenges. One'),\n",
              " Document(id='c0f68d31-3ebf-45f7-bf6c-cef790cb6f92', metadata={'source': 'data/A European Approach to Artificial Intelligence - A Policy Perspective.pdf', 'file_path': 'data/A European Approach to Artificial Intelligence - A Policy Perspective.pdf', 'page': 3, 'total_pages': 24, 'CreationDate': \"D:20200922223534+02'00'\", 'Creator': 'Adobe InDesign 15.1 (Macintosh)', 'ModDate': \"D:20200922223544+02'00'\", 'Producer': 'Adobe PDF Library 15.0', 'Trapped': 'False'}, page_content='advanced robots, autonomous cars, drones or Internet of Things place, a recent EIT Health Report envisages more in healthcare in\\napplications)”. Broad AI definitions cover several technologies, in- the near future, such as remote monitoring, AI-powered alerting'),\n",
              " Document(id='8594b8a3-aef5-44ae-93aa-7f1d5afeaaa3', metadata={'source': 'data/A European Approach to Artificial Intelligence - A Policy Perspective.pdf', 'file_path': 'data/A European Approach to Artificial Intelligence - A Policy Perspective.pdf', 'page': 21, 'total_pages': 24, 'CreationDate': \"D:20200922223534+02'00'\", 'Creator': 'Adobe InDesign 15.1 (Macintosh)', 'ModDate': \"D:20200922223544+02'00'\", 'Producer': 'Adobe PDF Library 15.0', 'Trapped': 'False'}, page_content='EIT Health and McKinsey & Company, (2020), Transforming healthcare with AI. Impact Scherer, M. (2016). Regulating Artificial Intelligence Systems: Risks, Challenges, Compe-'),\n",
              " Document(id='98d019bc-1a7e-4273-8eac-eff09d7bf756', metadata={'source': 'data/A European Approach to Artificial Intelligence - A Policy Perspective.pdf', 'file_path': 'data/A European Approach to Artificial Intelligence - A Policy Perspective.pdf', 'page': 15, 'total_pages': 24, 'CreationDate': \"D:20200922223534+02'00'\", 'Creator': 'Adobe InDesign 15.1 (Macintosh)', 'ModDate': \"D:20200922223544+02'00'\", 'Producer': 'Adobe PDF Library 15.0', 'Trapped': 'False'}, page_content='very sensitive. An extensive use to feed AI tools can the use of patient’s data in the hospitals that deploy\\nHealth data raise many concerns. Data ownership is also an issue AI-powered applications. The patients should be aware'),\n",
              " Document(id='b63de5ec-3554-488f-a4c0-1975c0c9e39f', metadata={'source': 'data/A European Approach to Artificial Intelligence - A Policy Perspective.pdf', 'file_path': 'data/A European Approach to Artificial Intelligence - A Policy Perspective.pdf', 'page': 14, 'total_pages': 24, 'CreationDate': \"D:20200922223534+02'00'\", 'Creator': 'Adobe InDesign 15.1 (Macintosh)', 'ModDate': \"D:20200922223544+02'00'\", 'Producer': 'Adobe PDF Library 15.0', 'Trapped': 'False'}, page_content='to extract information from clinical notes or predictive scheduling healthcare practitioners needs. In addition, at the regulatory le-\\nof the visits) and diagnostic (machine and deep learning applied to vel it is important that new AI regulation is harmonised with other'),\n",
              " Document(id='7c4c1675-87ad-47ba-8df1-39e8036cf6c2', metadata={'source': 'data/A European Approach to Artificial Intelligence - A Policy Perspective.pdf', 'file_path': 'data/A European Approach to Artificial Intelligence - A Policy Perspective.pdf', 'page': 14, 'total_pages': 24, 'CreationDate': \"D:20200922223534+02'00'\", 'Creator': 'Adobe InDesign 15.1 (Macintosh)', 'ModDate': \"D:20200922223544+02'00'\", 'Producer': 'Adobe PDF Library 15.0', 'Trapped': 'False'}, page_content='greatest impact in addressing societal challenges. Given rising de- A second challenge is that of finding a common language and un-\\nmands and costs, AI could help doing more and better with the derstanding between data experts and healthcare professionals.')]"
            ]
          },
          "execution_count": 5,
          "metadata": {},
          "output_type": "execute_result"
        }
      ],
      "source": [
        "search_result = pdf_retriever.invoke(\n",
        "    \"Where has the application of AI in healthcare been confined to so far?\"\n",
        ")\n",
        "search_result"
      ]
    },
    {
      "cell_type": "markdown",
      "id": "abf7eabc",
      "metadata": {},
      "source": [
        "Pass the search result as context to the chain."
      ]
    },
    {
      "cell_type": "code",
      "execution_count": 6,
      "id": "80f1eea5",
      "metadata": {},
      "outputs": [
        {
          "name": "stdout",
          "output_type": "stream",
          "text": [
            "The application of AI in healthcare has so far been confined primarily to administrative tasks, such as Natural Language Processing for extracting information from clinical notes and predictive scheduling. There is potential for more extensive use in research and development, but significant applications remain limited.\n",
            "\n",
            "**Source**\n",
            "- data/A European Approach to Artificial Intelligence - A Policy Perspective.pdf (page 14)\n"
          ]
        }
      ],
      "source": [
        "# Generate an answer based on the search results\n",
        "answer = pdf_chain.invoke(\n",
        "    {\n",
        "        \"question\": \"Where has the application of AI in healthcare been confined to so far?\",\n",
        "        \"context\": search_result,\n",
        "        \"chat_history\": [],\n",
        "    }\n",
        ")\n",
        "print(answer)"
      ]
    },
    {
      "cell_type": "markdown",
      "id": "0430cc3f",
      "metadata": {},
      "source": [
        "## Defining State\n",
        "\n",
        "`State` defines the **shared state** among the nodes and another nodes.\n",
        "\n",
        "Typically, the `TypedDict` format is used."
      ]
    },
    {
      "cell_type": "code",
      "execution_count": 7,
      "id": "4e392f46",
      "metadata": {},
      "outputs": [],
      "source": [
        "from typing import Annotated, TypedDict\n",
        "from langgraph.graph.message import add_messages\n",
        "\n",
        "# Define GraphState\n",
        "class GraphState(TypedDict):\n",
        "    question: Annotated[str, \"Question\"]  # Question\n",
        "    context: Annotated[str, \"Context\"]  # Search results from the document\n",
        "    answer: Annotated[str, \"Answer\"]  # Answer\n",
        "    messages: Annotated[list, add_messages]  # Messages (accumulated list)"
      ]
    },
    {
      "cell_type": "markdown",
      "id": "c9e26176",
      "metadata": {},
      "source": [
        "## Defining Nodes\n",
        "\n",
        "`Nodes` : These are nodes that handle each stage, typically implemented as Python functions. Inputs and outputs are the State values.\n",
        "\n",
        "[ **Note** ]  \n",
        "- A `State` is taken as input, performs the defined logic, and returns an **updated** `State` ."
      ]
    },
    {
      "cell_type": "code",
      "execution_count": 8,
      "id": "2892e164",
      "metadata": {},
      "outputs": [],
      "source": [
        "from rag.utils import format_docs\n",
        "from langchain_opentutorial.messages import messages_to_history\n",
        "\n",
        "# Node that retrieve document\n",
        "def retrieve_document(state: GraphState) -> GraphState:\n",
        "    # Get the question from the state\n",
        "    latest_question = state[\"question\"]\n",
        "\n",
        "    # Search the document to find relevant sections\n",
        "    retrieved_docs = pdf_retriever.invoke(latest_question)\n",
        "\n",
        "    # Format the retrieved documents (to input into a prompt)\n",
        "    retrieved_docs = format_docs(retrieved_docs)\n",
        "    \n",
        "    # Save the retrieved documents in the key named context\n",
        "    return {\"context\": retrieved_docs}\n",
        "\n",
        "\n",
        "# Node that generate answer\n",
        "def llm_answer(state: GraphState) -> GraphState:\n",
        "    # Get the question from the state\n",
        "    latest_question = state[\"question\"]\n",
        "\n",
        "    # Get the retrieved documents from the state\n",
        "    context = state[\"context\"]\n",
        "\n",
        "    # Call the chain to generate an answer\n",
        "    response = pdf_chain.invoke(\n",
        "        {\n",
        "            \"question\": latest_question,\n",
        "            \"context\": context,\n",
        "            \"chat_history\": messages_to_history(state[\"messages\"]),\n",
        "        }\n",
        "    )\n",
        "\n",
        "    # Save the generated answer and (user question, answer) messages in the state\n",
        "    return {\n",
        "        \"answer\": response,\n",
        "        \"messages\": [(\"user\", latest_question), (\"assistant\", response)],\n",
        "    }"
      ]
    },
    {
      "cell_type": "markdown",
      "id": "303edffd",
      "metadata": {},
      "source": [
        "## Creating the Graph\n",
        "\n",
        "`Edges` : Python functions that determine the next `Node` to execute based on the **current** `State` .\n",
        "\n",
        "There can be general edges and conditional edges."
      ]
    },
    {
      "cell_type": "code",
      "execution_count": 9,
      "id": "4ea7f66c",
      "metadata": {},
      "outputs": [],
      "source": [
        "from langgraph.graph import END, StateGraph\n",
        "from langgraph.checkpoint.memory import MemorySaver\n",
        "\n",
        "# Create a graph\n",
        "workflow = StateGraph(GraphState)\n",
        "\n",
        "# Define nodes\n",
        "workflow.add_node(\"retrieve\", retrieve_document)\n",
        "workflow.add_node(\"llm_answer\", llm_answer)\n",
        "\n",
        "# Define edges\n",
        "workflow.add_edge(\"retrieve\", \"llm_answer\")  # Retrieval -> Answer generation\n",
        "workflow.add_edge(\"llm_answer\", END)  # Answer generation -> End\n",
        "\n",
        "# Set entry point for the graph\n",
        "workflow.set_entry_point(\"retrieve\")\n",
        "\n",
        "# Set up a checkpointer\n",
        "memory = MemorySaver()\n",
        "\n",
        "# Compile the graph\n",
        "app = workflow.compile(checkpointer=memory)"
      ]
    },
    {
      "cell_type": "markdown",
      "id": "1f5b7377",
      "metadata": {},
      "source": [
        "Visualize the compiled graph."
      ]
    },
    {
      "cell_type": "code",
      "execution_count": 10,
      "id": "74add1cc",
      "metadata": {},
      "outputs": [
        {
          "data": {
            "image/png": "[encoded data removed]",
            "text/plain": [
              "<IPython.core.display.Image object>"
            ]
          },
          "metadata": {},
          "output_type": "display_data"
        }
      ],
      "source": [
        "from langchain_opentutorial.graphs import visualize_graph\n",
        "\n",
        "visualize_graph(app) "
      ]
    },
    {
      "cell_type": "markdown",
      "id": "0cf924d4",
      "metadata": {},
      "source": [
        "## Executing the Graph\n",
        "\n",
        "- The `config` parameter provides configuration informations necessary for graph execution.\n",
        "- `recursion_limit` : Sets the maximum recursion depth for graph execution.\n",
        "- `inputs` : Provides the input data for the graph execution.\n",
        "\n",
        "The `stream_graph` function below streams only specific nodes.\n",
        "\n",
        "You can easily check the **streaming output** of a **specific node** ."
      ]
    },
    {
      "cell_type": "code",
      "execution_count": 11,
      "id": "b6765d83",
      "metadata": {},
      "outputs": [
        {
          "name": "stdout",
          "output_type": "stream",
          "text": [
            "\n",
            "==================================================\n",
            "🔄 Node: \u001b[1;36mretrieve\u001b[0m 🔄\n",
            "- - - - - - - - - - - - - - - - - - - - - - - - - \n",
            "\u001b[1;32mcontext\u001b[0m:\n",
            "<document><content>activities. So far, however, AI applications in healthcare have been potential. Specific healthcare training should be provided to data\n",
            "confined to administrative tasks (i.e., Natural Language Processing scientists working in hospitals so that they can better understand</content><source>data/A European Approach to Artificial Intelligence - A Policy Perspective.pdf</source><page>15</page></document>\n",
            "<document><content>are great, as more use of AI in research and development could\n",
            "Healthcare is arguably the sector where AI could make the lead to a more personalised healthcare based on patients’ data.</content><source>data/A European Approach to Artificial Intelligence - A Policy Perspective.pdf</source><page>15</page></document>\n",
            "<document><content>intermediate / professional users (i.e., healthcare professionals). the safety of employees. The key application of AI is certainly in\n",
            "This is a matter of privacy and personal data protection, of building predictive maintenance. Yet, the more radical transformation of</content><source>data/A European Approach to Artificial Intelligence - A Policy Perspective.pdf</source><page>11</page></document>\n",
            "<document><content>Remote sible, as AI solutions can increasingly divert patients ning healthcare professionals, starting from the simple\n",
            "healthcare to appropriate solutions for their specific symptoms tasks and diagnostic appointments.\n",
            "and underlying conditions.\n",
            "16</content><source>data/A European Approach to Artificial Intelligence - A Policy Perspective.pdf</source><page>16</page></document>\n",
            "<document><content>same. The Covid-19 crisis has shown how strained our National\n",
            "Healthcare Systems are, and AI solutions could help meet the cur- AI in the healthcare faces organisational and skill challenges. One</content><source>data/A European Approach to Artificial Intelligence - A Policy Perspective.pdf</source><page>15</page></document>\n",
            "<document><content>advanced robots, autonomous cars, drones or Internet of Things place, a recent EIT Health Report envisages more in healthcare in\n",
            "applications)”. Broad AI definitions cover several technologies, in- the near future, such as remote monitoring, AI-powered alerting</content><source>data/A European Approach to Artificial Intelligence - A Policy Perspective.pdf</source><page>4</page></document>\n",
            "<document><content>EIT Health and McKinsey & Company, (2020), Transforming healthcare with AI. Impact Scherer, M. (2016). Regulating Artificial Intelligence Systems: Risks, Challenges, Compe-</content><source>data/A European Approach to Artificial Intelligence - A Policy Perspective.pdf</source><page>22</page></document>\n",
            "<document><content>very sensitive. An extensive use to feed AI tools can the use of patient’s data in the hospitals that deploy\n",
            "Health data raise many concerns. Data ownership is also an issue AI-powered applications. The patients should be aware</content><source>data/A European Approach to Artificial Intelligence - A Policy Perspective.pdf</source><page>16</page></document>\n",
            "<document><content>to extract information from clinical notes or predictive scheduling healthcare practitioners needs. In addition, at the regulatory le-\n",
            "of the visits) and diagnostic (machine and deep learning applied to vel it is important that new AI regulation is harmonised with other</content><source>data/A European Approach to Artificial Intelligence - A Policy Perspective.pdf</source><page>15</page></document>\n",
            "<document><content>greatest impact in addressing societal challenges. Given rising de- A second challenge is that of finding a common language and un-\n",
            "mands and costs, AI could help doing more and better with the derstanding between data experts and healthcare professionals.</content><source>data/A European Approach to Artificial Intelligence - A Policy Perspective.pdf</source><page>15</page></document>\n",
            "==================================================\n",
            "\n",
            "==================================================\n",
            "🔄 Node: \u001b[1;36mllm_answer\u001b[0m 🔄\n",
            "- - - - - - - - - - - - - - - - - - - - - - - - - \n",
            "\u001b[1;32manswer\u001b[0m:\n",
            "The application of AI in healthcare has so far been confined primarily to administrative tasks, such as Natural Language Processing for extracting information from clinical notes and predictive scheduling. \n",
            "\n",
            "**Source**\n",
            "- data/A European Approach to Artificial Intelligence - A Policy Perspective.pdf (page 15)\n",
            "('user', 'Where has the application of AI in healthcare been confined to so far?')\n",
            "('assistant', 'The application of AI in healthcare has so far been confined primarily to administrative tasks, such as Natural Language Processing for extracting information from clinical notes and predictive scheduling. \\n\\n**Source**\\n- data/A European Approach to Artificial Intelligence - A Policy Perspective.pdf (page 15)')\n",
            "==================================================\n"
          ]
        }
      ],
      "source": [
        "from langchain_core.runnables import RunnableConfig\n",
        "from langchain_opentutorial.messages import invoke_graph, stream_graph, random_uuid\n",
        "\n",
        "# Configure settings (recursion limit, thread_id)\n",
        "config = RunnableConfig(recursion_limit=20, configurable={\"thread_id\": random_uuid()})\n",
        "\n",
        "# Question input\n",
        "inputs = GraphState(\n",
        "    question=\"Where has the application of AI in healthcare been confined to so far?\"\n",
        ")\n",
        "\n",
        "# Execute the graph\n",
        "invoke_graph(app, inputs, config)"
      ]
    },
    {
      "cell_type": "code",
      "execution_count": 12,
      "id": "07a4505e",
      "metadata": {},
      "outputs": [
        {
          "name": "stdout",
          "output_type": "stream",
          "text": [
            "\n",
            "==================================================\n",
            "🔄 Node: \u001b[1;36mllm_answer\u001b[0m 🔄\n",
            "- - - - - - - - - - - - - - - - - - - - - - - - - \n",
            "The application of AI in healthcare has so far been confined primarily to administrative tasks, such as Natural Language Processing for extracting information from clinical notes and predictive scheduling.\n",
            "\n",
            "**Source**\n",
            "- data/A European Approach to Artificial Intelligence - A Policy Perspective.pdf (page 15)"
          ]
        }
      ],
      "source": [
        "# Stream the graph outputs\n",
        "stream_graph(app, inputs, config)"
      ]
    },
    {
      "cell_type": "code",
      "execution_count": 13,
      "id": "405b1c79",
      "metadata": {},
      "outputs": [
        {
          "name": "stdout",
          "output_type": "stream",
          "text": [
            "Question: Where has the application of AI in healthcare been confined to so far?\n",
            "============================================================\n",
            "Answer:\n",
            "The application of AI in healthcare has so far been confined primarily to administrative tasks, such as Natural Language Processing for extracting information from clinical notes and predictive scheduling.\n",
            "\n",
            "**Source**\n",
            "- data/A European Approach to Artificial Intelligence - A Policy Perspective.pdf (page 15)\n"
          ]
        }
      ],
      "source": [
        "outputs = app.get_state(config).values\n",
        "\n",
        "print(f'Question: {outputs[\"question\"]}')\n",
        "print(\"===\" * 20)\n",
        "print(f'Answer:\\n{outputs[\"answer\"]}')"
      ]
    }
  ],
  "metadata": {
    "kernelspec": {
      "display_name": "langchain-opentutorial-lQfVMvH8-py3.11",
      "language": "python",
      "name": "python3"
    },
    "language_info": {
      "codemirror_mode": {
        "name": "ipython",
        "version": 3
      },
      "file_extension": ".py",
      "mimetype": "text/x-python",
      "name": "python",
      "nbconvert_exporter": "python",
      "pygments_lexer": "ipython3",
      "version": "3.11.11"
    }
  },
  "nbformat": 4,
  "nbformat_minor": 5
}
